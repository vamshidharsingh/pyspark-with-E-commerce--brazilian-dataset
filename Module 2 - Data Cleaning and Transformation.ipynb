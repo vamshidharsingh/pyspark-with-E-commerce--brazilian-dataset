{
 "cells": [
  {
   "cell_type": "markdown",
   "id": "1ef24f0e-03cd-48ea-a652-ccb3872d12b3",
   "metadata": {},
   "source": [
    "# Module 2 - Data Cleaning and Transformation"
   ]
  },
  {
   "cell_type": "code",
   "execution_count": 1,
   "id": "72e119d6-61eb-42bd-a8d0-b4903afd3f9a",
   "metadata": {},
   "outputs": [
    {
     "name": "stderr",
     "output_type": "stream",
     "text": [
      "25/02/26 11:44:49 WARN SparkSession: Using an existing Spark session; only runtime SQL configurations will take effect.\n"
     ]
    }
   ],
   "source": [
    "from pyspark.sql import SparkSession\n",
    "\n",
    "spark = SparkSession.builder \\\n",
    ".appName('OlistData') \\\n",
    ".getOrCreate()"
   ]
  },
  {
   "cell_type": "code",
   "execution_count": 2,
   "id": "8fc81a59-cc24-4cc5-8a89-c2417c483f5f",
   "metadata": {},
   "outputs": [],
   "source": [
    "hdfs_path = '/data/olist/'"
   ]
  },
  {
   "cell_type": "code",
   "execution_count": 3,
   "id": "e0cf9e59-fa36-4b86-9476-d81e694638f8",
   "metadata": {},
   "outputs": [
    {
     "name": "stderr",
     "output_type": "stream",
     "text": [
      "                                                                                \r"
     ]
    }
   ],
   "source": [
    "customers_df = spark.read.csv(hdfs_path + 'olist_customers_dataset.csv',header=True,inferSchema=True)\n",
    "orders_df = spark.read.csv(hdfs_path + 'olist_orders_dataset.csv',header=True,inferSchema=True)\n",
    "order_item_df = spark.read.csv(hdfs_path + 'olist_order_items_dataset.csv',header=True,inferSchema=True)\n",
    "payments_df = spark.read.csv(hdfs_path + 'olist_order_payments_dataset.csv',header=True,inferSchema=True)\n",
    "reviews_df = spark.read.csv(hdfs_path + 'olist_order_reviews_dataset.csv',header=True,inferSchema=True)\n",
    "products_df = spark.read.csv(hdfs_path + 'olist_products_dataset.csv',header=True,inferSchema=True)\n",
    "sellers_df = spark.read.csv(hdfs_path + 'olist_sellers_dataset.csv',header=True,inferSchema=True)\n",
    "geolocation_df = spark.read.csv(hdfs_path + 'olist_geolocation_dataset.csv',header=True,inferSchema=True)\n",
    "category_translation_df = spark.read.csv(hdfs_path + 'product_category_name_translation.csv',header=True,inferSchema=True)"
   ]
  },
  {
   "cell_type": "code",
   "execution_count": 4,
   "id": "39946ed2-e664-4f22-8f5a-1b3d74e3ce88",
   "metadata": {},
   "outputs": [
    {
     "name": "stdout",
     "output_type": "stream",
     "text": [
      "+--------------------+--------------------+------------------------+--------------------+--------------+\n",
      "|         customer_id|  customer_unique_id|customer_zip_code_prefix|       customer_city|customer_state|\n",
      "+--------------------+--------------------+------------------------+--------------------+--------------+\n",
      "|06b8999e2fba1a1fb...|861eff4711a542e4b...|                   14409|              franca|            SP|\n",
      "|18955e83d337fd6b2...|290c77bc529b7ac93...|                    9790|sao bernardo do c...|            SP|\n",
      "|4e7b3e00288586ebd...|060e732b5b29e8181...|                    1151|           sao paulo|            SP|\n",
      "|b2b6027bc5c5109e5...|259dac757896d24d7...|                    8775|     mogi das cruzes|            SP|\n",
      "|4f2d8ab171c80ec83...|345ecd01c38d18a90...|                   13056|            campinas|            SP|\n",
      "|879864dab9bc30475...|4c93744516667ad3b...|                   89254|      jaragua do sul|            SC|\n",
      "|fd826e7cf63160e53...|addec96d2e059c80c...|                    4534|           sao paulo|            SP|\n",
      "|5e274e7a0c3809e14...|57b2a98a409812fe9...|                   35182|             timoteo|            MG|\n",
      "|5adf08e34b2e99398...|1175e95fb47ddff9d...|                   81560|            curitiba|            PR|\n",
      "|4b7139f34592b3a31...|9afe194fb833f79e3...|                   30575|      belo horizonte|            MG|\n",
      "|9fb35e4ed6f0a14a4...|2a7745e1ed516b289...|                   39400|       montes claros|            MG|\n",
      "|5aa9e4fdd4dfd2095...|2a46fb94aef5cbeeb...|                   20231|      rio de janeiro|            RJ|\n",
      "|b2d1536598b73a9ab...|918dc87cd72cd9f6e...|                   18682|    lencois paulista|            SP|\n",
      "|eabebad39a88bb6f5...|295c05e81917928d7...|                    5704|           sao paulo|            SP|\n",
      "|1f1c7bf1c9b041b29...|3151a81801c838636...|                   95110|       caxias do sul|            RS|\n",
      "|206f3129c0e4d7d0b...|21f748a16f4e1688a...|                   13412|          piracicaba|            SP|\n",
      "|a7c125a0a07b75146...|5c2991dbd08bbf3cf...|                   22750|      rio de janeiro|            RJ|\n",
      "|c5c61596a3b6bd0ce...|b6e99561fe6f34a55...|                    7124|           guarulhos|            SP|\n",
      "|9b8ce803689b3562d...|7f3a72e8f988c6e73...|                    5416|           sao paulo|            SP|\n",
      "|49d0ea0986edde72d...|3e6fd6b2f0d499456...|                   68485|              pacaja|            PA|\n",
      "+--------------------+--------------------+------------------------+--------------------+--------------+\n",
      "only showing top 20 rows\n",
      "\n"
     ]
    }
   ],
   "source": [
    "customers_df.show()"
   ]
  },
  {
   "cell_type": "code",
   "execution_count": 5,
   "id": "2bf46b41-afbe-445b-bfc8-2bd4944d0208",
   "metadata": {},
   "outputs": [],
   "source": [
    "# Identify Missing Values"
   ]
  },
  {
   "cell_type": "code",
   "execution_count": 7,
   "id": "6a050f7f-6c62-415a-9909-2b78258cba08",
   "metadata": {},
   "outputs": [],
   "source": [
    "from pyspark.sql.functions import *"
   ]
  },
  {
   "cell_type": "code",
   "execution_count": 8,
   "id": "e5f7c991-d1c6-404e-b71f-cc2e3c1009fc",
   "metadata": {},
   "outputs": [],
   "source": [
    "def missing_values(df,df_name):\n",
    "    print(f'Missing values in {df_name}:')\n",
    "    df.select([count(when(col(c).isNull(),1)).alias(c) for c in df.columns]).show()\n"
   ]
  },
  {
   "cell_type": "code",
   "execution_count": 9,
   "id": "25fecf8e-e58f-4be9-935d-a46fc0e0f188",
   "metadata": {},
   "outputs": [
    {
     "name": "stdout",
     "output_type": "stream",
     "text": [
      "Missing values in customer:\n"
     ]
    },
    {
     "name": "stderr",
     "output_type": "stream",
     "text": [
      "[Stage 19:=============================>                            (1 + 1) / 2]\r"
     ]
    },
    {
     "name": "stdout",
     "output_type": "stream",
     "text": [
      "+-----------+------------------+------------------------+-------------+--------------+\n",
      "|customer_id|customer_unique_id|customer_zip_code_prefix|customer_city|customer_state|\n",
      "+-----------+------------------+------------------------+-------------+--------------+\n",
      "|          0|                 0|                       0|            0|             0|\n",
      "+-----------+------------------+------------------------+-------------+--------------+\n",
      "\n"
     ]
    },
    {
     "name": "stderr",
     "output_type": "stream",
     "text": [
      "                                                                                \r"
     ]
    }
   ],
   "source": [
    "missing_values(customers_df,'customer')"
   ]
  },
  {
   "cell_type": "code",
   "execution_count": 10,
   "id": "532f023c-c6ec-46bd-8e09-13136d90f33c",
   "metadata": {},
   "outputs": [
    {
     "name": "stdout",
     "output_type": "stream",
     "text": [
      "Missing values in orders:\n"
     ]
    },
    {
     "name": "stderr",
     "output_type": "stream",
     "text": [
      "[Stage 22:=============================>                            (1 + 1) / 2]\r"
     ]
    },
    {
     "name": "stdout",
     "output_type": "stream",
     "text": [
      "+--------+-----------+------------+------------------------+-----------------+----------------------------+-----------------------------+-----------------------------+\n",
      "|order_id|customer_id|order_status|order_purchase_timestamp|order_approved_at|order_delivered_carrier_date|order_delivered_customer_date|order_estimated_delivery_date|\n",
      "+--------+-----------+------------+------------------------+-----------------+----------------------------+-----------------------------+-----------------------------+\n",
      "|       0|          0|           0|                       0|              160|                        1783|                         2965|                            0|\n",
      "+--------+-----------+------------+------------------------+-----------------+----------------------------+-----------------------------+-----------------------------+\n",
      "\n"
     ]
    },
    {
     "name": "stderr",
     "output_type": "stream",
     "text": [
      "                                                                                \r"
     ]
    }
   ],
   "source": [
    "missing_values(orders_df,'orders')"
   ]
  },
  {
   "cell_type": "code",
   "execution_count": 12,
   "id": "329805a8-0327-4e60-bc59-71d029f8d034",
   "metadata": {},
   "outputs": [
    {
     "name": "stdout",
     "output_type": "stream",
     "text": [
      "Missing values in order_item:\n",
      "+--------+-------------+----------+---------+-------------------+-----+-------------+\n",
      "|order_id|order_item_id|product_id|seller_id|shipping_limit_date|price|freight_value|\n",
      "+--------+-------------+----------+---------+-------------------+-----+-------------+\n",
      "|       0|            0|         0|        0|                  0|    0|            0|\n",
      "+--------+-------------+----------+---------+-------------------+-----+-------------+\n",
      "\n"
     ]
    }
   ],
   "source": [
    "missing_values(order_item_df,'order_item')"
   ]
  },
  {
   "cell_type": "code",
   "execution_count": 13,
   "id": "ac5bc88d-3d03-4334-a31e-8c6c27edc68a",
   "metadata": {},
   "outputs": [
    {
     "name": "stdout",
     "output_type": "stream",
     "text": [
      "Missing values in payments:\n",
      "+--------+------------------+------------+--------------------+-------------+\n",
      "|order_id|payment_sequential|payment_type|payment_installments|payment_value|\n",
      "+--------+------------------+------------+--------------------+-------------+\n",
      "|       0|                 0|           0|                   0|            0|\n",
      "+--------+------------------+------------+--------------------+-------------+\n",
      "\n"
     ]
    }
   ],
   "source": [
    "missing_values(payments_df,'payments')"
   ]
  },
  {
   "cell_type": "code",
   "execution_count": null,
   "id": "83d1cae6-d0c8-4a3c-8e24-405697ddb449",
   "metadata": {},
   "outputs": [],
   "source": []
  },
  {
   "cell_type": "markdown",
   "id": "11642efa-cd6b-456c-af75-32e60fb80147",
   "metadata": {},
   "source": [
    "# Handle Missing Values\n",
    "\n",
    "1. Drop missing Values ( for non - critical columns )\n",
    "\n",
    "2. Fill missing values ( for numerical columns )\n",
    "\n",
    "3. Impute Missing Values ( for continous data )"
   ]
  },
  {
   "cell_type": "code",
   "execution_count": 15,
   "id": "e044e133-b597-40d0-a855-1599a7e9ca12",
   "metadata": {},
   "outputs": [],
   "source": [
    "orders_df_cleaned = orders_df.na.drop(subset=['order_id','customer_id','order_status'])"
   ]
  },
  {
   "cell_type": "code",
   "execution_count": 16,
   "id": "117f34ec-a22d-4fc9-af58-f69acbb92553",
   "metadata": {},
   "outputs": [
    {
     "name": "stdout",
     "output_type": "stream",
     "text": [
      "+--------------------+--------------------+------------+------------------------+-------------------+----------------------------+-----------------------------+-----------------------------+\n",
      "|            order_id|         customer_id|order_status|order_purchase_timestamp|  order_approved_at|order_delivered_carrier_date|order_delivered_customer_date|order_estimated_delivery_date|\n",
      "+--------------------+--------------------+------------+------------------------+-------------------+----------------------------+-----------------------------+-----------------------------+\n",
      "|e481f51cbdc54678b...|9ef432eb625129730...|   delivered|     2017-10-02 10:56:33|2017-10-02 11:07:15|         2017-10-04 19:55:00|          2017-10-10 21:25:13|          2017-10-18 00:00:00|\n",
      "|53cdb2fc8bc7dce0b...|b0830fb4747a6c6d2...|   delivered|     2018-07-24 20:41:37|2018-07-26 03:24:27|         2018-07-26 14:31:00|          2018-08-07 15:27:45|          2018-08-13 00:00:00|\n",
      "|47770eb9100c2d0c4...|41ce2a54c0b03bf34...|   delivered|     2018-08-08 08:38:49|2018-08-08 08:55:23|         2018-08-08 13:50:00|          2018-08-17 18:06:29|          2018-09-04 00:00:00|\n",
      "|949d5b44dbf5de918...|f88197465ea7920ad...|   delivered|     2017-11-18 19:28:06|2017-11-18 19:45:59|         2017-11-22 13:39:59|          2017-12-02 00:28:42|          2017-12-15 00:00:00|\n",
      "|ad21c59c0840e6cb8...|8ab97904e6daea886...|   delivered|     2018-02-13 21:18:39|2018-02-13 22:20:29|         2018-02-14 19:46:34|          2018-02-16 18:17:02|          2018-02-26 00:00:00|\n",
      "|a4591c265e18cb1dc...|503740e9ca751ccdd...|   delivered|     2017-07-09 21:57:05|2017-07-09 22:10:13|         2017-07-11 14:58:04|          2017-07-26 10:57:55|          2017-08-01 00:00:00|\n",
      "|136cce7faa42fdb2c...|ed0271e0b7da060a3...|    invoiced|     2017-04-11 12:22:08|2017-04-13 13:25:17|                        null|                         null|          2017-05-09 00:00:00|\n",
      "|6514b8ad8028c9f2c...|9bdf08b4b3b52b552...|   delivered|     2017-05-16 13:10:30|2017-05-16 13:22:11|         2017-05-22 10:07:46|          2017-05-26 12:55:51|          2017-06-07 00:00:00|\n",
      "|76c6e866289321a7c...|f54a9f0e6b351c431...|   delivered|     2017-01-23 18:29:09|2017-01-25 02:50:47|         2017-01-26 14:16:31|          2017-02-02 14:08:10|          2017-03-06 00:00:00|\n",
      "|e69bfb5eb88e0ed6a...|31ad1d1b63eb99624...|   delivered|     2017-07-29 11:55:02|2017-07-29 12:05:32|         2017-08-10 19:45:24|          2017-08-16 17:14:30|          2017-08-23 00:00:00|\n",
      "|e6ce16cb79ec1d90b...|494dded5b201313c6...|   delivered|     2017-05-16 19:41:10|2017-05-16 19:50:18|         2017-05-18 11:40:40|          2017-05-29 11:18:31|          2017-06-07 00:00:00|\n",
      "|34513ce0c4fab462a...|7711cf624183d843a...|   delivered|     2017-07-13 19:58:11|2017-07-13 20:10:08|         2017-07-14 18:43:29|          2017-07-19 14:04:48|          2017-08-08 00:00:00|\n",
      "|82566a660a982b15f...|d3e3b74c766bc6214...|   delivered|     2018-06-07 10:06:19|2018-06-09 03:13:12|         2018-06-11 13:29:00|          2018-06-19 12:05:52|          2018-07-18 00:00:00|\n",
      "|5ff96c15d0b717ac6...|19402a48fe860416a...|   delivered|     2018-07-25 17:44:10|2018-07-25 17:55:14|         2018-07-26 13:16:00|          2018-07-30 15:52:25|          2018-08-08 00:00:00|\n",
      "|432aaf21d85167c2c...|3df704f53d3f1d481...|   delivered|     2018-03-01 14:14:28|2018-03-01 15:10:47|         2018-03-02 21:09:20|          2018-03-12 23:36:26|          2018-03-21 00:00:00|\n",
      "|dcb36b511fcac050b...|3b6828a50ffe54694...|   delivered|     2018-06-07 19:03:12|2018-06-12 23:31:02|         2018-06-11 14:54:00|          2018-06-21 15:34:32|          2018-07-04 00:00:00|\n",
      "|403b97836b0c04a62...|738b086814c6fcc74...|   delivered|     2018-01-02 19:00:43|2018-01-02 19:09:04|         2018-01-03 18:19:09|          2018-01-20 01:38:59|          2018-02-06 00:00:00|\n",
      "|116f0b09343b49556...|3187789bec9909876...|   delivered|     2017-12-26 23:41:31|2017-12-26 23:50:22|         2017-12-28 18:33:05|          2018-01-08 22:36:36|          2018-01-29 00:00:00|\n",
      "|85ce859fd6dc634de...|059f7fc5719c7da6c...|   delivered|     2017-11-21 00:03:41|2017-11-21 00:14:22|         2017-11-23 21:32:26|          2017-11-27 18:28:00|          2017-12-11 00:00:00|\n",
      "|83018ec114eee8641...|7f8c8b9c2ae27bf33...|   delivered|     2017-10-26 15:54:26|2017-10-26 16:08:14|         2017-10-26 21:46:53|          2017-11-08 22:22:00|          2017-11-23 00:00:00|\n",
      "+--------------------+--------------------+------------+------------------------+-------------------+----------------------------+-----------------------------+-----------------------------+\n",
      "only showing top 20 rows\n",
      "\n"
     ]
    }
   ],
   "source": [
    "orders_df_cleaned.show()"
   ]
  },
  {
   "cell_type": "code",
   "execution_count": null,
   "id": "f9bed509-96d8-41f0-844b-004d93e3de29",
   "metadata": {},
   "outputs": [],
   "source": []
  },
  {
   "cell_type": "code",
   "execution_count": 17,
   "id": "19a005ea-3d56-468d-a3e3-6b883dfe99ac",
   "metadata": {},
   "outputs": [],
   "source": [
    "orders_df_cleaned = orders_df.fillna({'order_delivered_customer_date':'9999-12-31'})"
   ]
  },
  {
   "cell_type": "code",
   "execution_count": 18,
   "id": "bb6f32d3-dca3-44eb-a06d-d71fe665df5a",
   "metadata": {},
   "outputs": [
    {
     "name": "stdout",
     "output_type": "stream",
     "text": [
      "+--------------------+--------------------+------------+------------------------+-------------------+----------------------------+-----------------------------+-----------------------------+\n",
      "|            order_id|         customer_id|order_status|order_purchase_timestamp|  order_approved_at|order_delivered_carrier_date|order_delivered_customer_date|order_estimated_delivery_date|\n",
      "+--------------------+--------------------+------------+------------------------+-------------------+----------------------------+-----------------------------+-----------------------------+\n",
      "|e481f51cbdc54678b...|9ef432eb625129730...|   delivered|     2017-10-02 10:56:33|2017-10-02 11:07:15|         2017-10-04 19:55:00|          2017-10-10 21:25:13|          2017-10-18 00:00:00|\n",
      "|53cdb2fc8bc7dce0b...|b0830fb4747a6c6d2...|   delivered|     2018-07-24 20:41:37|2018-07-26 03:24:27|         2018-07-26 14:31:00|          2018-08-07 15:27:45|          2018-08-13 00:00:00|\n",
      "|47770eb9100c2d0c4...|41ce2a54c0b03bf34...|   delivered|     2018-08-08 08:38:49|2018-08-08 08:55:23|         2018-08-08 13:50:00|          2018-08-17 18:06:29|          2018-09-04 00:00:00|\n",
      "|949d5b44dbf5de918...|f88197465ea7920ad...|   delivered|     2017-11-18 19:28:06|2017-11-18 19:45:59|         2017-11-22 13:39:59|          2017-12-02 00:28:42|          2017-12-15 00:00:00|\n",
      "|ad21c59c0840e6cb8...|8ab97904e6daea886...|   delivered|     2018-02-13 21:18:39|2018-02-13 22:20:29|         2018-02-14 19:46:34|          2018-02-16 18:17:02|          2018-02-26 00:00:00|\n",
      "|a4591c265e18cb1dc...|503740e9ca751ccdd...|   delivered|     2017-07-09 21:57:05|2017-07-09 22:10:13|         2017-07-11 14:58:04|          2017-07-26 10:57:55|          2017-08-01 00:00:00|\n",
      "|136cce7faa42fdb2c...|ed0271e0b7da060a3...|    invoiced|     2017-04-11 12:22:08|2017-04-13 13:25:17|                        null|          9999-12-31 00:00:00|          2017-05-09 00:00:00|\n",
      "|6514b8ad8028c9f2c...|9bdf08b4b3b52b552...|   delivered|     2017-05-16 13:10:30|2017-05-16 13:22:11|         2017-05-22 10:07:46|          2017-05-26 12:55:51|          2017-06-07 00:00:00|\n",
      "|76c6e866289321a7c...|f54a9f0e6b351c431...|   delivered|     2017-01-23 18:29:09|2017-01-25 02:50:47|         2017-01-26 14:16:31|          2017-02-02 14:08:10|          2017-03-06 00:00:00|\n",
      "|e69bfb5eb88e0ed6a...|31ad1d1b63eb99624...|   delivered|     2017-07-29 11:55:02|2017-07-29 12:05:32|         2017-08-10 19:45:24|          2017-08-16 17:14:30|          2017-08-23 00:00:00|\n",
      "|e6ce16cb79ec1d90b...|494dded5b201313c6...|   delivered|     2017-05-16 19:41:10|2017-05-16 19:50:18|         2017-05-18 11:40:40|          2017-05-29 11:18:31|          2017-06-07 00:00:00|\n",
      "|34513ce0c4fab462a...|7711cf624183d843a...|   delivered|     2017-07-13 19:58:11|2017-07-13 20:10:08|         2017-07-14 18:43:29|          2017-07-19 14:04:48|          2017-08-08 00:00:00|\n",
      "|82566a660a982b15f...|d3e3b74c766bc6214...|   delivered|     2018-06-07 10:06:19|2018-06-09 03:13:12|         2018-06-11 13:29:00|          2018-06-19 12:05:52|          2018-07-18 00:00:00|\n",
      "|5ff96c15d0b717ac6...|19402a48fe860416a...|   delivered|     2018-07-25 17:44:10|2018-07-25 17:55:14|         2018-07-26 13:16:00|          2018-07-30 15:52:25|          2018-08-08 00:00:00|\n",
      "|432aaf21d85167c2c...|3df704f53d3f1d481...|   delivered|     2018-03-01 14:14:28|2018-03-01 15:10:47|         2018-03-02 21:09:20|          2018-03-12 23:36:26|          2018-03-21 00:00:00|\n",
      "|dcb36b511fcac050b...|3b6828a50ffe54694...|   delivered|     2018-06-07 19:03:12|2018-06-12 23:31:02|         2018-06-11 14:54:00|          2018-06-21 15:34:32|          2018-07-04 00:00:00|\n",
      "|403b97836b0c04a62...|738b086814c6fcc74...|   delivered|     2018-01-02 19:00:43|2018-01-02 19:09:04|         2018-01-03 18:19:09|          2018-01-20 01:38:59|          2018-02-06 00:00:00|\n",
      "|116f0b09343b49556...|3187789bec9909876...|   delivered|     2017-12-26 23:41:31|2017-12-26 23:50:22|         2017-12-28 18:33:05|          2018-01-08 22:36:36|          2018-01-29 00:00:00|\n",
      "|85ce859fd6dc634de...|059f7fc5719c7da6c...|   delivered|     2017-11-21 00:03:41|2017-11-21 00:14:22|         2017-11-23 21:32:26|          2017-11-27 18:28:00|          2017-12-11 00:00:00|\n",
      "|83018ec114eee8641...|7f8c8b9c2ae27bf33...|   delivered|     2017-10-26 15:54:26|2017-10-26 16:08:14|         2017-10-26 21:46:53|          2017-11-08 22:22:00|          2017-11-23 00:00:00|\n",
      "+--------------------+--------------------+------------+------------------------+-------------------+----------------------------+-----------------------------+-----------------------------+\n",
      "only showing top 20 rows\n",
      "\n"
     ]
    }
   ],
   "source": [
    "orders_df_cleaned.show()"
   ]
  },
  {
   "cell_type": "markdown",
   "id": "bccb5eb9-b56a-4ead-af41-ec38d7f3ef56",
   "metadata": {},
   "source": [
    "# Impute missing values "
   ]
  },
  {
   "cell_type": "code",
   "execution_count": 19,
   "id": "c4376669-ef57-4b02-ac39-65b4f367224f",
   "metadata": {},
   "outputs": [],
   "source": [
    "from pyspark.ml.feature import Imputer\n",
    "\n",
    "imputer = Imputer(inputCols=['payment_value'],outputCols=['payment_value_imputed']).setStrategy('mean')\n",
    "\n",
    "\n",
    "payments_df_cleaned = imputer.fit(payments_df).transform(payments_df)"
   ]
  },
  {
   "cell_type": "code",
   "execution_count": 20,
   "id": "d8ef332c-bc52-4694-b181-bb1da41aefb1",
   "metadata": {},
   "outputs": [
    {
     "name": "stdout",
     "output_type": "stream",
     "text": [
      "+--------------------+------------------+------------+--------------------+-------------+---------------------+\n",
      "|            order_id|payment_sequential|payment_type|payment_installments|payment_value|payment_value_imputed|\n",
      "+--------------------+------------------+------------+--------------------+-------------+---------------------+\n",
      "|b81ef226f3fe1789b...|                 1| credit_card|                   8|        99.33|                99.33|\n",
      "|a9810da82917af2d9...|                 1| credit_card|                   1|        24.39|                24.39|\n",
      "|25e8ea4e93396b6fa...|                 1| credit_card|                   1|        65.71|                65.71|\n",
      "|ba78997921bbcdc13...|                 1| credit_card|                   8|       107.78|               107.78|\n",
      "|42fdf880ba16b47b5...|                 1| credit_card|                   2|       128.45|               128.45|\n",
      "|298fcdf1f73eb413e...|                 1| credit_card|                   2|        96.12|                96.12|\n",
      "|771ee386b001f0620...|                 1| credit_card|                   1|        81.16|                81.16|\n",
      "|3d7239c394a212faa...|                 1| credit_card|                   3|        51.84|                51.84|\n",
      "|1f78449c87a54faf9...|                 1| credit_card|                   6|       341.09|               341.09|\n",
      "|0573b5e23cbd79800...|                 1|      boleto|                   1|        51.95|                51.95|\n",
      "|d88e0d5fa41661ce0...|                 1| credit_card|                   8|       188.73|               188.73|\n",
      "|2480f727e869fdeb3...|                 1| credit_card|                   1|        141.9|                141.9|\n",
      "|616105c9352a9668c...|                 1| credit_card|                   1|        75.78|                75.78|\n",
      "|cf95215a722f3ebf2...|                 1| credit_card|                   5|       102.66|               102.66|\n",
      "|769214176682788a9...|                 1| credit_card|                   4|       105.28|               105.28|\n",
      "|12e5cfe0e4716b59a...|                 1| credit_card|                  10|       157.45|               157.45|\n",
      "|61059985a6fc0ad64...|                 1| credit_card|                   1|       132.04|               132.04|\n",
      "|79da3f5fe31ad1e45...|                 1| credit_card|                   1|        98.94|                98.94|\n",
      "|8ac09207f415d55ac...|                 1| credit_card|                   4|       244.15|               244.15|\n",
      "|b2349a3f20dfbeef6...|                 1| credit_card|                   3|       136.71|               136.71|\n",
      "+--------------------+------------------+------------+--------------------+-------------+---------------------+\n",
      "only showing top 20 rows\n",
      "\n"
     ]
    }
   ],
   "source": [
    "payments_df_cleaned.show()"
   ]
  },
  {
   "cell_type": "code",
   "execution_count": 29,
   "id": "61bdbcde-98b6-4d79-be9c-6b3530f84d99",
   "metadata": {},
   "outputs": [],
   "source": [
    "payments_df_with_null = payments_df.withColumn('payment_value',when(col('payment_value')!= 99.33,col('payment_value')).otherwise(lit(None)))"
   ]
  },
  {
   "cell_type": "code",
   "execution_count": 30,
   "id": "ed56b00c-af6d-4402-9d6a-6e1511a49ae7",
   "metadata": {},
   "outputs": [
    {
     "name": "stdout",
     "output_type": "stream",
     "text": [
      "+--------------------+------------------+------------+--------------------+-------------+\n",
      "|            order_id|payment_sequential|payment_type|payment_installments|payment_value|\n",
      "+--------------------+------------------+------------+--------------------+-------------+\n",
      "|b81ef226f3fe1789b...|                 1| credit_card|                   8|         null|\n",
      "|a9810da82917af2d9...|                 1| credit_card|                   1|        24.39|\n",
      "|25e8ea4e93396b6fa...|                 1| credit_card|                   1|        65.71|\n",
      "|ba78997921bbcdc13...|                 1| credit_card|                   8|       107.78|\n",
      "|42fdf880ba16b47b5...|                 1| credit_card|                   2|       128.45|\n",
      "|298fcdf1f73eb413e...|                 1| credit_card|                   2|        96.12|\n",
      "|771ee386b001f0620...|                 1| credit_card|                   1|        81.16|\n",
      "|3d7239c394a212faa...|                 1| credit_card|                   3|        51.84|\n",
      "|1f78449c87a54faf9...|                 1| credit_card|                   6|       341.09|\n",
      "|0573b5e23cbd79800...|                 1|      boleto|                   1|        51.95|\n",
      "|d88e0d5fa41661ce0...|                 1| credit_card|                   8|       188.73|\n",
      "|2480f727e869fdeb3...|                 1| credit_card|                   1|        141.9|\n",
      "|616105c9352a9668c...|                 1| credit_card|                   1|        75.78|\n",
      "|cf95215a722f3ebf2...|                 1| credit_card|                   5|       102.66|\n",
      "|769214176682788a9...|                 1| credit_card|                   4|       105.28|\n",
      "|12e5cfe0e4716b59a...|                 1| credit_card|                  10|       157.45|\n",
      "|61059985a6fc0ad64...|                 1| credit_card|                   1|       132.04|\n",
      "|79da3f5fe31ad1e45...|                 1| credit_card|                   1|        98.94|\n",
      "|8ac09207f415d55ac...|                 1| credit_card|                   4|       244.15|\n",
      "|b2349a3f20dfbeef6...|                 1| credit_card|                   3|       136.71|\n",
      "+--------------------+------------------+------------+--------------------+-------------+\n",
      "only showing top 20 rows\n",
      "\n"
     ]
    }
   ],
   "source": [
    "payments_df_with_null.show()"
   ]
  },
  {
   "cell_type": "code",
   "execution_count": 58,
   "id": "93229b08-5366-48bc-95c4-97b79c67cef2",
   "metadata": {},
   "outputs": [
    {
     "name": "stdout",
     "output_type": "stream",
     "text": [
      "+--------------------+------------------+------------+--------------------+-------------+---------------------+\n",
      "|            order_id|payment_sequential|payment_type|payment_installments|payment_value|payment_value_imputed|\n",
      "+--------------------+------------------+------------+--------------------+-------------+---------------------+\n",
      "|b81ef226f3fe1789b...|                 1| credit_card|                   8|         null|                100.0|\n",
      "|a9810da82917af2d9...|                 1| credit_card|                   1|        24.39|                24.39|\n",
      "|25e8ea4e93396b6fa...|                 1| credit_card|                   1|        65.71|                65.71|\n",
      "|ba78997921bbcdc13...|                 1| credit_card|                   8|       107.78|               107.78|\n",
      "|42fdf880ba16b47b5...|                 1| credit_card|                   2|       128.45|               128.45|\n",
      "|298fcdf1f73eb413e...|                 1| credit_card|                   2|        96.12|                96.12|\n",
      "|771ee386b001f0620...|                 1| credit_card|                   1|        81.16|                81.16|\n",
      "|3d7239c394a212faa...|                 1| credit_card|                   3|        51.84|                51.84|\n",
      "|1f78449c87a54faf9...|                 1| credit_card|                   6|       341.09|               341.09|\n",
      "|0573b5e23cbd79800...|                 1|      boleto|                   1|        51.95|                51.95|\n",
      "|d88e0d5fa41661ce0...|                 1| credit_card|                   8|       188.73|               188.73|\n",
      "|2480f727e869fdeb3...|                 1| credit_card|                   1|        141.9|                141.9|\n",
      "|616105c9352a9668c...|                 1| credit_card|                   1|        75.78|                75.78|\n",
      "|cf95215a722f3ebf2...|                 1| credit_card|                   5|       102.66|               102.66|\n",
      "|769214176682788a9...|                 1| credit_card|                   4|       105.28|               105.28|\n",
      "|12e5cfe0e4716b59a...|                 1| credit_card|                  10|       157.45|               157.45|\n",
      "|61059985a6fc0ad64...|                 1| credit_card|                   1|       132.04|               132.04|\n",
      "|79da3f5fe31ad1e45...|                 1| credit_card|                   1|        98.94|                98.94|\n",
      "|8ac09207f415d55ac...|                 1| credit_card|                   4|       244.15|               244.15|\n",
      "|b2349a3f20dfbeef6...|                 1| credit_card|                   3|       136.71|               136.71|\n",
      "+--------------------+------------------+------------+--------------------+-------------+---------------------+\n",
      "only showing top 20 rows\n",
      "\n"
     ]
    }
   ],
   "source": [
    "from pyspark.ml.feature import Imputer\n",
    "\n",
    "imputer = Imputer(inputCols=['payment_value'],outputCols=['payment_value_imputed']).setStrategy('median')\n",
    "\n",
    "\n",
    "payments_df_cleaned = imputer.fit(payments_df_with_null).transform(payments_df_with_null)\n",
    "\n",
    "payments_df_cleaned.show()"
   ]
  },
  {
   "cell_type": "markdown",
   "id": "08872d45-c216-40ec-ba68-8cba1ce6fe08",
   "metadata": {},
   "source": [
    "# Standardizing the format"
   ]
  },
  {
   "cell_type": "code",
   "execution_count": 36,
   "id": "6a7764fd-ed6d-4f9c-a326-e3c669c372b7",
   "metadata": {},
   "outputs": [],
   "source": [
    "def print_schema(df,df_name):\n",
    "    print(f'schema of {df_name}:')\n",
    "    df.printSchema()"
   ]
  },
  {
   "cell_type": "code",
   "execution_count": 37,
   "id": "019b8b3f-bfd7-4ea3-93f2-be5ed953b738",
   "metadata": {},
   "outputs": [
    {
     "name": "stdout",
     "output_type": "stream",
     "text": [
      "schema of orders:\n",
      "root\n",
      " |-- order_id: string (nullable = true)\n",
      " |-- customer_id: string (nullable = true)\n",
      " |-- order_status: string (nullable = true)\n",
      " |-- order_purchase_timestamp: timestamp (nullable = true)\n",
      " |-- order_approved_at: timestamp (nullable = true)\n",
      " |-- order_delivered_carrier_date: timestamp (nullable = true)\n",
      " |-- order_delivered_customer_date: timestamp (nullable = true)\n",
      " |-- order_estimated_delivery_date: timestamp (nullable = true)\n",
      "\n"
     ]
    }
   ],
   "source": [
    "print_schema(orders_df,'orders')"
   ]
  },
  {
   "cell_type": "code",
   "execution_count": 38,
   "id": "1eeae270-44b4-418a-870e-033261197548",
   "metadata": {},
   "outputs": [
    {
     "name": "stdout",
     "output_type": "stream",
     "text": [
      "schema of customers:\n",
      "root\n",
      " |-- customer_id: string (nullable = true)\n",
      " |-- customer_unique_id: string (nullable = true)\n",
      " |-- customer_zip_code_prefix: integer (nullable = true)\n",
      " |-- customer_city: string (nullable = true)\n",
      " |-- customer_state: string (nullable = true)\n",
      "\n"
     ]
    }
   ],
   "source": [
    "print_schema(customers_df,'customers')"
   ]
  },
  {
   "cell_type": "code",
   "execution_count": 39,
   "id": "fcda5743-03c9-40d3-be77-1df42cfc92be",
   "metadata": {},
   "outputs": [
    {
     "name": "stdout",
     "output_type": "stream",
     "text": [
      "schema of payments:\n",
      "root\n",
      " |-- order_id: string (nullable = true)\n",
      " |-- payment_sequential: integer (nullable = true)\n",
      " |-- payment_type: string (nullable = true)\n",
      " |-- payment_installments: integer (nullable = true)\n",
      " |-- payment_value: double (nullable = true)\n",
      "\n"
     ]
    }
   ],
   "source": [
    "print_schema(payments_df,'payments')"
   ]
  },
  {
   "cell_type": "code",
   "execution_count": 40,
   "id": "4e2c5048-f110-4d5a-9fe2-de445970ce28",
   "metadata": {},
   "outputs": [
    {
     "name": "stdout",
     "output_type": "stream",
     "text": [
      "+--------------------+--------------------+------------+------------------------+-------------------+----------------------------+-----------------------------+-----------------------------+\n",
      "|            order_id|         customer_id|order_status|order_purchase_timestamp|  order_approved_at|order_delivered_carrier_date|order_delivered_customer_date|order_estimated_delivery_date|\n",
      "+--------------------+--------------------+------------+------------------------+-------------------+----------------------------+-----------------------------+-----------------------------+\n",
      "|e481f51cbdc54678b...|9ef432eb625129730...|   delivered|     2017-10-02 10:56:33|2017-10-02 11:07:15|         2017-10-04 19:55:00|          2017-10-10 21:25:13|          2017-10-18 00:00:00|\n",
      "|53cdb2fc8bc7dce0b...|b0830fb4747a6c6d2...|   delivered|     2018-07-24 20:41:37|2018-07-26 03:24:27|         2018-07-26 14:31:00|          2018-08-07 15:27:45|          2018-08-13 00:00:00|\n",
      "|47770eb9100c2d0c4...|41ce2a54c0b03bf34...|   delivered|     2018-08-08 08:38:49|2018-08-08 08:55:23|         2018-08-08 13:50:00|          2018-08-17 18:06:29|          2018-09-04 00:00:00|\n",
      "|949d5b44dbf5de918...|f88197465ea7920ad...|   delivered|     2017-11-18 19:28:06|2017-11-18 19:45:59|         2017-11-22 13:39:59|          2017-12-02 00:28:42|          2017-12-15 00:00:00|\n",
      "|ad21c59c0840e6cb8...|8ab97904e6daea886...|   delivered|     2018-02-13 21:18:39|2018-02-13 22:20:29|         2018-02-14 19:46:34|          2018-02-16 18:17:02|          2018-02-26 00:00:00|\n",
      "|a4591c265e18cb1dc...|503740e9ca751ccdd...|   delivered|     2017-07-09 21:57:05|2017-07-09 22:10:13|         2017-07-11 14:58:04|          2017-07-26 10:57:55|          2017-08-01 00:00:00|\n",
      "|136cce7faa42fdb2c...|ed0271e0b7da060a3...|    invoiced|     2017-04-11 12:22:08|2017-04-13 13:25:17|                        null|                         null|          2017-05-09 00:00:00|\n",
      "|6514b8ad8028c9f2c...|9bdf08b4b3b52b552...|   delivered|     2017-05-16 13:10:30|2017-05-16 13:22:11|         2017-05-22 10:07:46|          2017-05-26 12:55:51|          2017-06-07 00:00:00|\n",
      "|76c6e866289321a7c...|f54a9f0e6b351c431...|   delivered|     2017-01-23 18:29:09|2017-01-25 02:50:47|         2017-01-26 14:16:31|          2017-02-02 14:08:10|          2017-03-06 00:00:00|\n",
      "|e69bfb5eb88e0ed6a...|31ad1d1b63eb99624...|   delivered|     2017-07-29 11:55:02|2017-07-29 12:05:32|         2017-08-10 19:45:24|          2017-08-16 17:14:30|          2017-08-23 00:00:00|\n",
      "|e6ce16cb79ec1d90b...|494dded5b201313c6...|   delivered|     2017-05-16 19:41:10|2017-05-16 19:50:18|         2017-05-18 11:40:40|          2017-05-29 11:18:31|          2017-06-07 00:00:00|\n",
      "|34513ce0c4fab462a...|7711cf624183d843a...|   delivered|     2017-07-13 19:58:11|2017-07-13 20:10:08|         2017-07-14 18:43:29|          2017-07-19 14:04:48|          2017-08-08 00:00:00|\n",
      "|82566a660a982b15f...|d3e3b74c766bc6214...|   delivered|     2018-06-07 10:06:19|2018-06-09 03:13:12|         2018-06-11 13:29:00|          2018-06-19 12:05:52|          2018-07-18 00:00:00|\n",
      "|5ff96c15d0b717ac6...|19402a48fe860416a...|   delivered|     2018-07-25 17:44:10|2018-07-25 17:55:14|         2018-07-26 13:16:00|          2018-07-30 15:52:25|          2018-08-08 00:00:00|\n",
      "|432aaf21d85167c2c...|3df704f53d3f1d481...|   delivered|     2018-03-01 14:14:28|2018-03-01 15:10:47|         2018-03-02 21:09:20|          2018-03-12 23:36:26|          2018-03-21 00:00:00|\n",
      "|dcb36b511fcac050b...|3b6828a50ffe54694...|   delivered|     2018-06-07 19:03:12|2018-06-12 23:31:02|         2018-06-11 14:54:00|          2018-06-21 15:34:32|          2018-07-04 00:00:00|\n",
      "|403b97836b0c04a62...|738b086814c6fcc74...|   delivered|     2018-01-02 19:00:43|2018-01-02 19:09:04|         2018-01-03 18:19:09|          2018-01-20 01:38:59|          2018-02-06 00:00:00|\n",
      "|116f0b09343b49556...|3187789bec9909876...|   delivered|     2017-12-26 23:41:31|2017-12-26 23:50:22|         2017-12-28 18:33:05|          2018-01-08 22:36:36|          2018-01-29 00:00:00|\n",
      "|85ce859fd6dc634de...|059f7fc5719c7da6c...|   delivered|     2017-11-21 00:03:41|2017-11-21 00:14:22|         2017-11-23 21:32:26|          2017-11-27 18:28:00|          2017-12-11 00:00:00|\n",
      "|83018ec114eee8641...|7f8c8b9c2ae27bf33...|   delivered|     2017-10-26 15:54:26|2017-10-26 16:08:14|         2017-10-26 21:46:53|          2017-11-08 22:22:00|          2017-11-23 00:00:00|\n",
      "+--------------------+--------------------+------------+------------------------+-------------------+----------------------------+-----------------------------+-----------------------------+\n",
      "only showing top 20 rows\n",
      "\n"
     ]
    }
   ],
   "source": [
    "orders_df.show()"
   ]
  },
  {
   "cell_type": "code",
   "execution_count": 41,
   "id": "4daa582b-20bc-4e23-8e65-21d275fa4e2f",
   "metadata": {},
   "outputs": [],
   "source": [
    "orders_df_cleaned = orders_df_cleaned.withColumn('order_purchase_timestamp',to_date(col('order_purchase_timestamp')))"
   ]
  },
  {
   "cell_type": "code",
   "execution_count": 42,
   "id": "6dc7decf-e8cc-4199-8c90-36ede7115322",
   "metadata": {},
   "outputs": [
    {
     "name": "stdout",
     "output_type": "stream",
     "text": [
      "+--------------------+--------------------+------------+------------------------+-------------------+----------------------------+-----------------------------+-----------------------------+\n",
      "|            order_id|         customer_id|order_status|order_purchase_timestamp|  order_approved_at|order_delivered_carrier_date|order_delivered_customer_date|order_estimated_delivery_date|\n",
      "+--------------------+--------------------+------------+------------------------+-------------------+----------------------------+-----------------------------+-----------------------------+\n",
      "|e481f51cbdc54678b...|9ef432eb625129730...|   delivered|              2017-10-02|2017-10-02 11:07:15|         2017-10-04 19:55:00|          2017-10-10 21:25:13|          2017-10-18 00:00:00|\n",
      "|53cdb2fc8bc7dce0b...|b0830fb4747a6c6d2...|   delivered|              2018-07-24|2018-07-26 03:24:27|         2018-07-26 14:31:00|          2018-08-07 15:27:45|          2018-08-13 00:00:00|\n",
      "|47770eb9100c2d0c4...|41ce2a54c0b03bf34...|   delivered|              2018-08-08|2018-08-08 08:55:23|         2018-08-08 13:50:00|          2018-08-17 18:06:29|          2018-09-04 00:00:00|\n",
      "|949d5b44dbf5de918...|f88197465ea7920ad...|   delivered|              2017-11-18|2017-11-18 19:45:59|         2017-11-22 13:39:59|          2017-12-02 00:28:42|          2017-12-15 00:00:00|\n",
      "|ad21c59c0840e6cb8...|8ab97904e6daea886...|   delivered|              2018-02-13|2018-02-13 22:20:29|         2018-02-14 19:46:34|          2018-02-16 18:17:02|          2018-02-26 00:00:00|\n",
      "|a4591c265e18cb1dc...|503740e9ca751ccdd...|   delivered|              2017-07-09|2017-07-09 22:10:13|         2017-07-11 14:58:04|          2017-07-26 10:57:55|          2017-08-01 00:00:00|\n",
      "|136cce7faa42fdb2c...|ed0271e0b7da060a3...|    invoiced|              2017-04-11|2017-04-13 13:25:17|                        null|          9999-12-31 00:00:00|          2017-05-09 00:00:00|\n",
      "|6514b8ad8028c9f2c...|9bdf08b4b3b52b552...|   delivered|              2017-05-16|2017-05-16 13:22:11|         2017-05-22 10:07:46|          2017-05-26 12:55:51|          2017-06-07 00:00:00|\n",
      "|76c6e866289321a7c...|f54a9f0e6b351c431...|   delivered|              2017-01-23|2017-01-25 02:50:47|         2017-01-26 14:16:31|          2017-02-02 14:08:10|          2017-03-06 00:00:00|\n",
      "|e69bfb5eb88e0ed6a...|31ad1d1b63eb99624...|   delivered|              2017-07-29|2017-07-29 12:05:32|         2017-08-10 19:45:24|          2017-08-16 17:14:30|          2017-08-23 00:00:00|\n",
      "|e6ce16cb79ec1d90b...|494dded5b201313c6...|   delivered|              2017-05-16|2017-05-16 19:50:18|         2017-05-18 11:40:40|          2017-05-29 11:18:31|          2017-06-07 00:00:00|\n",
      "|34513ce0c4fab462a...|7711cf624183d843a...|   delivered|              2017-07-13|2017-07-13 20:10:08|         2017-07-14 18:43:29|          2017-07-19 14:04:48|          2017-08-08 00:00:00|\n",
      "|82566a660a982b15f...|d3e3b74c766bc6214...|   delivered|              2018-06-07|2018-06-09 03:13:12|         2018-06-11 13:29:00|          2018-06-19 12:05:52|          2018-07-18 00:00:00|\n",
      "|5ff96c15d0b717ac6...|19402a48fe860416a...|   delivered|              2018-07-25|2018-07-25 17:55:14|         2018-07-26 13:16:00|          2018-07-30 15:52:25|          2018-08-08 00:00:00|\n",
      "|432aaf21d85167c2c...|3df704f53d3f1d481...|   delivered|              2018-03-01|2018-03-01 15:10:47|         2018-03-02 21:09:20|          2018-03-12 23:36:26|          2018-03-21 00:00:00|\n",
      "|dcb36b511fcac050b...|3b6828a50ffe54694...|   delivered|              2018-06-07|2018-06-12 23:31:02|         2018-06-11 14:54:00|          2018-06-21 15:34:32|          2018-07-04 00:00:00|\n",
      "|403b97836b0c04a62...|738b086814c6fcc74...|   delivered|              2018-01-02|2018-01-02 19:09:04|         2018-01-03 18:19:09|          2018-01-20 01:38:59|          2018-02-06 00:00:00|\n",
      "|116f0b09343b49556...|3187789bec9909876...|   delivered|              2017-12-26|2017-12-26 23:50:22|         2017-12-28 18:33:05|          2018-01-08 22:36:36|          2018-01-29 00:00:00|\n",
      "|85ce859fd6dc634de...|059f7fc5719c7da6c...|   delivered|              2017-11-21|2017-11-21 00:14:22|         2017-11-23 21:32:26|          2017-11-27 18:28:00|          2017-12-11 00:00:00|\n",
      "|83018ec114eee8641...|7f8c8b9c2ae27bf33...|   delivered|              2017-10-26|2017-10-26 16:08:14|         2017-10-26 21:46:53|          2017-11-08 22:22:00|          2017-11-23 00:00:00|\n",
      "+--------------------+--------------------+------------+------------------------+-------------------+----------------------------+-----------------------------+-----------------------------+\n",
      "only showing top 20 rows\n",
      "\n"
     ]
    }
   ],
   "source": [
    "orders_df_cleaned.show()"
   ]
  },
  {
   "cell_type": "code",
   "execution_count": null,
   "id": "01777b9e-fc48-4213-bf45-c3b7c540fa87",
   "metadata": {},
   "outputs": [],
   "source": []
  },
  {
   "cell_type": "code",
   "execution_count": 59,
   "id": "ac3b4334-9ae4-4ded-8e9f-07558f28e593",
   "metadata": {},
   "outputs": [
    {
     "name": "stdout",
     "output_type": "stream",
     "text": [
      "+--------------------+------------------+------------+--------------------+-------------+---------------------+\n",
      "|            order_id|payment_sequential|payment_type|payment_installments|payment_value|payment_value_imputed|\n",
      "+--------------------+------------------+------------+--------------------+-------------+---------------------+\n",
      "|b81ef226f3fe1789b...|                 1| credit_card|                   8|         null|                100.0|\n",
      "|a9810da82917af2d9...|                 1| credit_card|                   1|        24.39|                24.39|\n",
      "|25e8ea4e93396b6fa...|                 1| credit_card|                   1|        65.71|                65.71|\n",
      "|ba78997921bbcdc13...|                 1| credit_card|                   8|       107.78|               107.78|\n",
      "|42fdf880ba16b47b5...|                 1| credit_card|                   2|       128.45|               128.45|\n",
      "|298fcdf1f73eb413e...|                 1| credit_card|                   2|        96.12|                96.12|\n",
      "|771ee386b001f0620...|                 1| credit_card|                   1|        81.16|                81.16|\n",
      "|3d7239c394a212faa...|                 1| credit_card|                   3|        51.84|                51.84|\n",
      "|1f78449c87a54faf9...|                 1| credit_card|                   6|       341.09|               341.09|\n",
      "|0573b5e23cbd79800...|                 1|      boleto|                   1|        51.95|                51.95|\n",
      "|d88e0d5fa41661ce0...|                 1| credit_card|                   8|       188.73|               188.73|\n",
      "|2480f727e869fdeb3...|                 1| credit_card|                   1|        141.9|                141.9|\n",
      "|616105c9352a9668c...|                 1| credit_card|                   1|        75.78|                75.78|\n",
      "|cf95215a722f3ebf2...|                 1| credit_card|                   5|       102.66|               102.66|\n",
      "|769214176682788a9...|                 1| credit_card|                   4|       105.28|               105.28|\n",
      "|12e5cfe0e4716b59a...|                 1| credit_card|                  10|       157.45|               157.45|\n",
      "|61059985a6fc0ad64...|                 1| credit_card|                   1|       132.04|               132.04|\n",
      "|79da3f5fe31ad1e45...|                 1| credit_card|                   1|        98.94|                98.94|\n",
      "|8ac09207f415d55ac...|                 1| credit_card|                   4|       244.15|               244.15|\n",
      "|b2349a3f20dfbeef6...|                 1| credit_card|                   3|       136.71|               136.71|\n",
      "+--------------------+------------------+------------+--------------------+-------------+---------------------+\n",
      "only showing top 20 rows\n",
      "\n"
     ]
    }
   ],
   "source": [
    "payments_df_cleaned.show()"
   ]
  },
  {
   "cell_type": "code",
   "execution_count": 60,
   "id": "9ed7d7d0-08ad-4d85-b7fb-16972b45f05b",
   "metadata": {},
   "outputs": [],
   "source": [
    "payments_df_cleaned = payments_df_cleaned.withColumn('payment_type',when(col('payment_type')=='boleto','Bank Transfer')\n",
    "                                                     .when(col('payment_type')=='credit_card','Credit Card')\n",
    "                                                     .when(col('payment_type')=='debit_card','Debit Card')\n",
    "                                                    .otherwise('other'))"
   ]
  },
  {
   "cell_type": "code",
   "execution_count": 61,
   "id": "9a515ff4-f373-4c0f-a31c-e2196da33475",
   "metadata": {},
   "outputs": [
    {
     "name": "stdout",
     "output_type": "stream",
     "text": [
      "+--------------------+------------------+-------------+--------------------+-------------+---------------------+\n",
      "|            order_id|payment_sequential| payment_type|payment_installments|payment_value|payment_value_imputed|\n",
      "+--------------------+------------------+-------------+--------------------+-------------+---------------------+\n",
      "|b81ef226f3fe1789b...|                 1|  Credit Card|                   8|         null|                100.0|\n",
      "|a9810da82917af2d9...|                 1|  Credit Card|                   1|        24.39|                24.39|\n",
      "|25e8ea4e93396b6fa...|                 1|  Credit Card|                   1|        65.71|                65.71|\n",
      "|ba78997921bbcdc13...|                 1|  Credit Card|                   8|       107.78|               107.78|\n",
      "|42fdf880ba16b47b5...|                 1|  Credit Card|                   2|       128.45|               128.45|\n",
      "|298fcdf1f73eb413e...|                 1|  Credit Card|                   2|        96.12|                96.12|\n",
      "|771ee386b001f0620...|                 1|  Credit Card|                   1|        81.16|                81.16|\n",
      "|3d7239c394a212faa...|                 1|  Credit Card|                   3|        51.84|                51.84|\n",
      "|1f78449c87a54faf9...|                 1|  Credit Card|                   6|       341.09|               341.09|\n",
      "|0573b5e23cbd79800...|                 1|Bank Transfer|                   1|        51.95|                51.95|\n",
      "|d88e0d5fa41661ce0...|                 1|  Credit Card|                   8|       188.73|               188.73|\n",
      "|2480f727e869fdeb3...|                 1|  Credit Card|                   1|        141.9|                141.9|\n",
      "|616105c9352a9668c...|                 1|  Credit Card|                   1|        75.78|                75.78|\n",
      "|cf95215a722f3ebf2...|                 1|  Credit Card|                   5|       102.66|               102.66|\n",
      "|769214176682788a9...|                 1|  Credit Card|                   4|       105.28|               105.28|\n",
      "|12e5cfe0e4716b59a...|                 1|  Credit Card|                  10|       157.45|               157.45|\n",
      "|61059985a6fc0ad64...|                 1|  Credit Card|                   1|       132.04|               132.04|\n",
      "|79da3f5fe31ad1e45...|                 1|  Credit Card|                   1|        98.94|                98.94|\n",
      "|8ac09207f415d55ac...|                 1|  Credit Card|                   4|       244.15|               244.15|\n",
      "|b2349a3f20dfbeef6...|                 1|  Credit Card|                   3|       136.71|               136.71|\n",
      "+--------------------+------------------+-------------+--------------------+-------------+---------------------+\n",
      "only showing top 20 rows\n",
      "\n"
     ]
    }
   ],
   "source": [
    "payments_df_cleaned.show()"
   ]
  },
  {
   "cell_type": "code",
   "execution_count": 64,
   "id": "ffac27dd-aa85-49a3-86b0-cc60662bce80",
   "metadata": {},
   "outputs": [
    {
     "name": "stdout",
     "output_type": "stream",
     "text": [
      "root\n",
      " |-- customer_id: string (nullable = true)\n",
      " |-- customer_unique_id: string (nullable = true)\n",
      " |-- customer_zip_code_prefix: integer (nullable = true)\n",
      " |-- customer_city: string (nullable = true)\n",
      " |-- customer_state: string (nullable = true)\n",
      "\n"
     ]
    }
   ],
   "source": [
    "customers_df.printSchema()"
   ]
  },
  {
   "cell_type": "code",
   "execution_count": 63,
   "id": "5337cf17-2838-485c-b753-7b8cb4bd83c0",
   "metadata": {},
   "outputs": [
    {
     "name": "stdout",
     "output_type": "stream",
     "text": [
      "+--------------------+--------------------+------------------------+--------------------+--------------+\n",
      "|         customer_id|  customer_unique_id|customer_zip_code_prefix|       customer_city|customer_state|\n",
      "+--------------------+--------------------+------------------------+--------------------+--------------+\n",
      "|06b8999e2fba1a1fb...|861eff4711a542e4b...|                   14409|              franca|            SP|\n",
      "|18955e83d337fd6b2...|290c77bc529b7ac93...|                    9790|sao bernardo do c...|            SP|\n",
      "|4e7b3e00288586ebd...|060e732b5b29e8181...|                    1151|           sao paulo|            SP|\n",
      "|b2b6027bc5c5109e5...|259dac757896d24d7...|                    8775|     mogi das cruzes|            SP|\n",
      "|4f2d8ab171c80ec83...|345ecd01c38d18a90...|                   13056|            campinas|            SP|\n",
      "|879864dab9bc30475...|4c93744516667ad3b...|                   89254|      jaragua do sul|            SC|\n",
      "|fd826e7cf63160e53...|addec96d2e059c80c...|                    4534|           sao paulo|            SP|\n",
      "|5e274e7a0c3809e14...|57b2a98a409812fe9...|                   35182|             timoteo|            MG|\n",
      "|5adf08e34b2e99398...|1175e95fb47ddff9d...|                   81560|            curitiba|            PR|\n",
      "|4b7139f34592b3a31...|9afe194fb833f79e3...|                   30575|      belo horizonte|            MG|\n",
      "|9fb35e4ed6f0a14a4...|2a7745e1ed516b289...|                   39400|       montes claros|            MG|\n",
      "|5aa9e4fdd4dfd2095...|2a46fb94aef5cbeeb...|                   20231|      rio de janeiro|            RJ|\n",
      "|b2d1536598b73a9ab...|918dc87cd72cd9f6e...|                   18682|    lencois paulista|            SP|\n",
      "|eabebad39a88bb6f5...|295c05e81917928d7...|                    5704|           sao paulo|            SP|\n",
      "|1f1c7bf1c9b041b29...|3151a81801c838636...|                   95110|       caxias do sul|            RS|\n",
      "|206f3129c0e4d7d0b...|21f748a16f4e1688a...|                   13412|          piracicaba|            SP|\n",
      "|a7c125a0a07b75146...|5c2991dbd08bbf3cf...|                   22750|      rio de janeiro|            RJ|\n",
      "|c5c61596a3b6bd0ce...|b6e99561fe6f34a55...|                    7124|           guarulhos|            SP|\n",
      "|9b8ce803689b3562d...|7f3a72e8f988c6e73...|                    5416|           sao paulo|            SP|\n",
      "|49d0ea0986edde72d...|3e6fd6b2f0d499456...|                   68485|              pacaja|            PA|\n",
      "+--------------------+--------------------+------------------------+--------------------+--------------+\n",
      "only showing top 20 rows\n",
      "\n"
     ]
    }
   ],
   "source": [
    "customers_df.show()"
   ]
  },
  {
   "cell_type": "code",
   "execution_count": 65,
   "id": "cfe417e9-96b2-46ed-9ce0-0a2afd8c26e1",
   "metadata": {},
   "outputs": [],
   "source": [
    "customers_df_cleaned = customers_df.withColumn('customer_zip_code_prefix',col('customer_zip_code_prefix').cast('string'))"
   ]
  },
  {
   "cell_type": "code",
   "execution_count": 66,
   "id": "0341876a-93ad-49e7-9168-6c50badc7403",
   "metadata": {},
   "outputs": [
    {
     "name": "stdout",
     "output_type": "stream",
     "text": [
      "root\n",
      " |-- customer_id: string (nullable = true)\n",
      " |-- customer_unique_id: string (nullable = true)\n",
      " |-- customer_zip_code_prefix: string (nullable = true)\n",
      " |-- customer_city: string (nullable = true)\n",
      " |-- customer_state: string (nullable = true)\n",
      "\n"
     ]
    }
   ],
   "source": [
    "customers_df_cleaned.printSchema()"
   ]
  },
  {
   "cell_type": "code",
   "execution_count": null,
   "id": "2c903796-44b1-4945-8de0-8bce88be279b",
   "metadata": {},
   "outputs": [],
   "source": []
  },
  {
   "cell_type": "code",
   "execution_count": null,
   "id": "85c80e05-64bd-442a-8e9f-7287ad53ebcf",
   "metadata": {},
   "outputs": [],
   "source": []
  },
  {
   "cell_type": "markdown",
   "id": "dc8b642f-195d-477b-9d18-d785d364aadd",
   "metadata": {},
   "source": [
    "# Remove Duplicate Records"
   ]
  },
  {
   "cell_type": "code",
   "execution_count": null,
   "id": "a7e58209-6bc4-4208-8644-17a6cbadc14f",
   "metadata": {},
   "outputs": [],
   "source": []
  },
  {
   "cell_type": "code",
   "execution_count": 68,
   "id": "a2fafaa5-e40e-4ec2-969d-4db7cf4b50d6",
   "metadata": {},
   "outputs": [],
   "source": [
    "customers_df_cleaned = customers_df_cleaned.dropDuplicates(['customer_id'])"
   ]
  },
  {
   "cell_type": "code",
   "execution_count": null,
   "id": "e4e7574f-fbb8-49cc-b117-422d4891e4a7",
   "metadata": {},
   "outputs": [],
   "source": []
  },
  {
   "cell_type": "code",
   "execution_count": null,
   "id": "16e91972-fbc0-43a0-94e2-1e59ee955117",
   "metadata": {},
   "outputs": [],
   "source": []
  },
  {
   "cell_type": "code",
   "execution_count": null,
   "id": "12f3fa56-b132-4c1a-b621-79b2837e5700",
   "metadata": {},
   "outputs": [],
   "source": []
  },
  {
   "cell_type": "code",
   "execution_count": null,
   "id": "79a947fd-4196-4deb-9b57-06e0d443205d",
   "metadata": {},
   "outputs": [],
   "source": []
  },
  {
   "cell_type": "markdown",
   "id": "856a713a-fce9-480a-867f-101935ae23e0",
   "metadata": {},
   "source": [
    "# Data Transformation"
   ]
  },
  {
   "cell_type": "code",
   "execution_count": 70,
   "id": "766b886a-f999-4038-8326-9be822f4b32c",
   "metadata": {},
   "outputs": [],
   "source": [
    "order_with_details = orders_df_cleaned.join(order_item_df,'order_id','left')\\\n",
    ".join(payments_df_cleaned,'order_id','left')\\\n",
    ".join(customers_df_cleaned,'customer_id','left')"
   ]
  },
  {
   "cell_type": "code",
   "execution_count": null,
   "id": "15ab98d9-0068-439d-abd0-46dab4fd6060",
   "metadata": {},
   "outputs": [],
   "source": []
  },
  {
   "cell_type": "code",
   "execution_count": 74,
   "id": "d857acc7-223e-472a-b205-504a375ad210",
   "metadata": {},
   "outputs": [
    {
     "name": "stderr",
     "output_type": "stream",
     "text": [
      "                                                                                \r"
     ]
    },
    {
     "name": "stdout",
     "output_type": "stream",
     "text": [
      "+--------------------+--------------------+------------+------------------------+-------------------+----------------------------+-----------------------------+-----------------------------+-------------+--------------------+--------------------+-------------------+------+-------------+------------------+-------------+--------------------+-------------+---------------------+--------------------+------------------------+--------------------+--------------+\n",
      "|         customer_id|            order_id|order_status|order_purchase_timestamp|  order_approved_at|order_delivered_carrier_date|order_delivered_customer_date|order_estimated_delivery_date|order_item_id|          product_id|           seller_id|shipping_limit_date| price|freight_value|payment_sequential| payment_type|payment_installments|payment_value|payment_value_imputed|  customer_unique_id|customer_zip_code_prefix|       customer_city|customer_state|\n",
      "+--------------------+--------------------+------------+------------------------+-------------------+----------------------------+-----------------------------+-----------------------------+-------------+--------------------+--------------------+-------------------+------+-------------+------------------+-------------+--------------------+-------------+---------------------+--------------------+------------------------+--------------------+--------------+\n",
      "|9ef432eb625129730...|e481f51cbdc54678b...|   delivered|              2017-10-02|2017-10-02 11:07:15|         2017-10-04 19:55:00|          2017-10-10 21:25:13|          2017-10-18 00:00:00|            1|87285b34884572647...|3504c0cb71d7fa48d...|2017-10-06 11:07:15| 29.99|         8.72|                 2|        other|                   1|        18.59|                18.59|7c396fd4830fd0422...|                    3149|           sao paulo|            SP|\n",
      "|9ef432eb625129730...|e481f51cbdc54678b...|   delivered|              2017-10-02|2017-10-02 11:07:15|         2017-10-04 19:55:00|          2017-10-10 21:25:13|          2017-10-18 00:00:00|            1|87285b34884572647...|3504c0cb71d7fa48d...|2017-10-06 11:07:15| 29.99|         8.72|                 3|        other|                   1|          2.0|                  2.0|7c396fd4830fd0422...|                    3149|           sao paulo|            SP|\n",
      "|9ef432eb625129730...|e481f51cbdc54678b...|   delivered|              2017-10-02|2017-10-02 11:07:15|         2017-10-04 19:55:00|          2017-10-10 21:25:13|          2017-10-18 00:00:00|            1|87285b34884572647...|3504c0cb71d7fa48d...|2017-10-06 11:07:15| 29.99|         8.72|                 1|  Credit Card|                   1|        18.12|                18.12|7c396fd4830fd0422...|                    3149|           sao paulo|            SP|\n",
      "|b0830fb4747a6c6d2...|53cdb2fc8bc7dce0b...|   delivered|              2018-07-24|2018-07-26 03:24:27|         2018-07-26 14:31:00|          2018-08-07 15:27:45|          2018-08-13 00:00:00|            1|595fac2a385ac33a8...|289cdb325fb7e7f89...|2018-07-30 03:24:27| 118.7|        22.76|                 1|Bank Transfer|                   1|       141.46|               141.46|af07308b275d755c9...|                   47813|           barreiras|            BA|\n",
      "|41ce2a54c0b03bf34...|47770eb9100c2d0c4...|   delivered|              2018-08-08|2018-08-08 08:55:23|         2018-08-08 13:50:00|          2018-08-17 18:06:29|          2018-09-04 00:00:00|            1|aa4383b373c6aca5d...|4869f7a5dfa277a7d...|2018-08-13 08:55:23| 159.9|        19.22|                 1|  Credit Card|                   3|       179.12|               179.12|3a653a41f6f9fc3d2...|                   75265|          vianopolis|            GO|\n",
      "|f88197465ea7920ad...|949d5b44dbf5de918...|   delivered|              2017-11-18|2017-11-18 19:45:59|         2017-11-22 13:39:59|          2017-12-02 00:28:42|          2017-12-15 00:00:00|            1|d0b61bfb1de832b15...|66922902710d126a0...|2017-11-23 19:45:59|  45.0|         27.2|                 1|  Credit Card|                   1|         72.2|                 72.2|7c142cf63193a1473...|                   59296|sao goncalo do am...|            RN|\n",
      "|8ab97904e6daea886...|ad21c59c0840e6cb8...|   delivered|              2018-02-13|2018-02-13 22:20:29|         2018-02-14 19:46:34|          2018-02-16 18:17:02|          2018-02-26 00:00:00|            1|65266b2da20d04dbe...|2c9e548be18521d1c...|2018-02-19 20:31:37|  19.9|         8.72|                 1|  Credit Card|                   1|        28.62|                28.62|72632f0f9dd73dfee...|                    9195|         santo andre|            SP|\n",
      "|503740e9ca751ccdd...|a4591c265e18cb1dc...|   delivered|              2017-07-09|2017-07-09 22:10:13|         2017-07-11 14:58:04|          2017-07-26 10:57:55|          2017-08-01 00:00:00|            1|060cb19345d90064d...|8581055ce74af1dab...|2017-07-13 22:10:13| 147.9|        27.36|                 1|  Credit Card|                   6|       175.26|               175.26|80bb27c7c16e8f973...|                   86320|        congonhinhas|            PR|\n",
      "|ed0271e0b7da060a3...|136cce7faa42fdb2c...|    invoiced|              2017-04-11|2017-04-13 13:25:17|                        null|          9999-12-31 00:00:00|          2017-05-09 00:00:00|            1|a1804276d9941ac07...|dc8798cbf453b7e0f...|2017-04-19 13:25:17|  49.9|        16.05|                 1|  Credit Card|                   1|        65.95|                65.95|36edbb3fb164b1f16...|                   98900|          santa rosa|            RS|\n",
      "|9bdf08b4b3b52b552...|6514b8ad8028c9f2c...|   delivered|              2017-05-16|2017-05-16 13:22:11|         2017-05-22 10:07:46|          2017-05-26 12:55:51|          2017-06-07 00:00:00|            1|4520766ec412348b8...|16090f2ca825584b5...|2017-05-22 13:22:11| 59.99|        15.17|                 1|  Credit Card|                   3|        75.16|                75.16|932afa1e708222e58...|                   26525|           nilopolis|            RJ|\n",
      "|f54a9f0e6b351c431...|76c6e866289321a7c...|   delivered|              2017-01-23|2017-01-25 02:50:47|         2017-01-26 14:16:31|          2017-02-02 14:08:10|          2017-03-06 00:00:00|            1|ac1789e492dcd698c...|63b9ae557efed31d1...|2017-01-27 18:29:09|  19.9|        16.05|                 1|Bank Transfer|                   1|        35.95|                35.95|39382392765b6dc74...|                   99655|        faxinalzinho|            RS|\n",
      "|31ad1d1b63eb99624...|e69bfb5eb88e0ed6a...|   delivered|              2017-07-29|2017-07-29 12:05:32|         2017-08-10 19:45:24|          2017-08-16 17:14:30|          2017-08-23 00:00:00|            1|9a78fb9862b10749a...|7c67e1448b00f6e96...|2017-08-11 12:05:32|149.99|        19.77|                 1|  Credit Card|                   1|         8.34|                 8.34|299905e3934e9e181...|                   18075|            sorocaba|            SP|\n",
      "|31ad1d1b63eb99624...|e69bfb5eb88e0ed6a...|   delivered|              2017-07-29|2017-07-29 12:05:32|         2017-08-10 19:45:24|          2017-08-16 17:14:30|          2017-08-23 00:00:00|            1|9a78fb9862b10749a...|7c67e1448b00f6e96...|2017-08-11 12:05:32|149.99|        19.77|                 2|        other|                   1|       161.42|               161.42|299905e3934e9e181...|                   18075|            sorocaba|            SP|\n",
      "|494dded5b201313c6...|e6ce16cb79ec1d90b...|   delivered|              2017-05-16|2017-05-16 19:50:18|         2017-05-18 11:40:40|          2017-05-29 11:18:31|          2017-06-07 00:00:00|            2|08574b074924071f4...|001cca7ae9ae17fb1...|2017-05-22 19:50:18|  99.0|        30.53|                 1|  Credit Card|                   1|       259.06|               259.06|f2a85dec752b8517b...|                   20780|      rio de janeiro|            RJ|\n",
      "|494dded5b201313c6...|e6ce16cb79ec1d90b...|   delivered|              2017-05-16|2017-05-16 19:50:18|         2017-05-18 11:40:40|          2017-05-29 11:18:31|          2017-06-07 00:00:00|            1|08574b074924071f4...|001cca7ae9ae17fb1...|2017-05-22 19:50:18|  99.0|        30.53|                 1|  Credit Card|                   1|       259.06|               259.06|f2a85dec752b8517b...|                   20780|      rio de janeiro|            RJ|\n",
      "|7711cf624183d843a...|34513ce0c4fab462a...|   delivered|              2017-07-13|2017-07-13 20:10:08|         2017-07-14 18:43:29|          2017-07-19 14:04:48|          2017-08-08 00:00:00|            1|f7e0fa615b386bc9a...|87142160b41353c4e...|2017-07-19 20:10:08|  98.0|        16.13|                 1|  Credit Card|                   1|       114.13|               114.13|782987b81c92239d9...|                    4278|           sao paulo|            SP|\n",
      "|d3e3b74c766bc6214...|82566a660a982b15f...|   delivered|              2018-06-07|2018-06-09 03:13:12|         2018-06-11 13:29:00|          2018-06-19 12:05:52|          2018-07-18 00:00:00|            1|72a97c271b2e42997...|094ced053e257ae8c...|2018-06-18 03:13:12|  31.9|        18.23|                 1|Bank Transfer|                   1|        50.13|                50.13|e97109680b052ee85...|                   35400|          ouro preto|            MG|\n",
      "|19402a48fe860416a...|5ff96c15d0b717ac6...|   delivered|              2018-07-25|2018-07-25 17:55:14|         2018-07-26 13:16:00|          2018-07-30 15:52:25|          2018-08-08 00:00:00|            1|10adb53d8faa890ca...|1900267e848ceeba8...|2018-07-27 17:55:14|  19.9|         12.8|                 1|  Credit Card|                   3|         32.7|                 32.7|e2dfa3127fedbbca9...|                    4812|           sao paulo|            SP|\n",
      "|3df704f53d3f1d481...|432aaf21d85167c2c...|   delivered|              2018-03-01|2018-03-01 15:10:47|         2018-03-02 21:09:20|          2018-03-12 23:36:26|          2018-03-21 00:00:00|            1|72d3bf1d3a790f887...|0bae85eb84b9fb3bd...|2018-03-07 15:10:47| 38.25|        16.11|                 1|  Credit Card|                   1|        54.36|                54.36|04cf8185c71090d28...|                    5271|           sao paulo|            SP|\n",
      "|3b6828a50ffe54694...|dcb36b511fcac050b...|   delivered|              2018-06-07|2018-06-12 23:31:02|         2018-06-11 14:54:00|          2018-06-21 15:34:32|          2018-07-04 00:00:00|            1|009c09f439988bc06...|89a51f50b8095ea78...|2018-06-18 18:59:02| 132.4|        14.05|                 1|  Credit Card|                  10|       146.45|               146.45|ccafc1c3f27041052...|                   74820|             goiania|            GO|\n",
      "+--------------------+--------------------+------------+------------------------+-------------------+----------------------------+-----------------------------+-----------------------------+-------------+--------------------+--------------------+-------------------+------+-------------+------------------+-------------+--------------------+-------------+---------------------+--------------------+------------------------+--------------------+--------------+\n",
      "only showing top 20 rows\n",
      "\n"
     ]
    }
   ],
   "source": [
    "order_with_details.show()"
   ]
  },
  {
   "cell_type": "code",
   "execution_count": null,
   "id": "20fce9a6-4a61-4b07-88ad-ce93d447d6e7",
   "metadata": {},
   "outputs": [],
   "source": []
  },
  {
   "cell_type": "code",
   "execution_count": 76,
   "id": "8a7ef956-a0e8-4cce-ba6a-aa0846c98a6e",
   "metadata": {},
   "outputs": [],
   "source": [
    "order_with_total_value = order_with_details.groupBy('order_id')\\\n",
    ".agg(sum('payment_value').alias('total_order_value'))"
   ]
  },
  {
   "cell_type": "code",
   "execution_count": 77,
   "id": "0374ff73-3d8d-437f-bad6-42684027cad9",
   "metadata": {},
   "outputs": [
    {
     "name": "stderr",
     "output_type": "stream",
     "text": [
      "[Stage 93:=============================>                            (1 + 1) / 2]\r"
     ]
    },
    {
     "name": "stdout",
     "output_type": "stream",
     "text": [
      "+--------------------+-----------------+\n",
      "|            order_id|total_order_value|\n",
      "+--------------------+-----------------+\n",
      "|f373335aac9a659de...|            59.18|\n",
      "|118045506e1c1dda0...|           1802.0|\n",
      "|cc66dee6fbc18bb79...|            136.4|\n",
      "|f44cb69655f8e4d13...|           164.32|\n",
      "|edcc6b79e8394346b...|           162.63|\n",
      "+--------------------+-----------------+\n",
      "only showing top 5 rows\n",
      "\n"
     ]
    },
    {
     "name": "stderr",
     "output_type": "stream",
     "text": [
      "                                                                                \r"
     ]
    }
   ],
   "source": [
    "order_with_total_value.show(5)"
   ]
  },
  {
   "cell_type": "code",
   "execution_count": null,
   "id": "504a3659-2457-4c6e-a377-e3d8e7140234",
   "metadata": {},
   "outputs": [],
   "source": []
  },
  {
   "cell_type": "code",
   "execution_count": null,
   "id": "50a36e34-06ca-4df7-813e-083f0f915a08",
   "metadata": {},
   "outputs": [],
   "source": []
  },
  {
   "cell_type": "code",
   "execution_count": null,
   "id": "3e5f1cee-6344-48cf-b387-7c66a225b0b8",
   "metadata": {},
   "outputs": [],
   "source": []
  },
  {
   "cell_type": "code",
   "execution_count": null,
   "id": "89065bea-a371-494a-9517-c10be06ffda1",
   "metadata": {},
   "outputs": [],
   "source": [
    "# Delivery Time Calculation from prev notebook"
   ]
  },
  {
   "cell_type": "code",
   "execution_count": null,
   "id": "25db556a-bb13-45d7-a97e-58a686e25004",
   "metadata": {},
   "outputs": [],
   "source": []
  },
  {
   "cell_type": "code",
   "execution_count": null,
   "id": "f1eec826-8868-42b6-8505-9d1458cfb868",
   "metadata": {},
   "outputs": [],
   "source": []
  },
  {
   "cell_type": "code",
   "execution_count": null,
   "id": "95adc0a3-0b39-4db7-ae28-9876201f48c4",
   "metadata": {},
   "outputs": [],
   "source": []
  },
  {
   "cell_type": "code",
   "execution_count": null,
   "id": "d0520568-e94b-4882-ac21-6f84964aba34",
   "metadata": {},
   "outputs": [],
   "source": []
  },
  {
   "cell_type": "code",
   "execution_count": null,
   "id": "984d39bd-8eae-4aae-b46b-d3966108e0b3",
   "metadata": {},
   "outputs": [],
   "source": []
  },
  {
   "cell_type": "markdown",
   "id": "2d69310b-808b-4787-bf3d-80294562c459",
   "metadata": {},
   "source": [
    "# Advance Transformation "
   ]
  },
  {
   "cell_type": "code",
   "execution_count": 80,
   "id": "98b4f246-57d4-4a32-87ff-21efe2529b6d",
   "metadata": {},
   "outputs": [
    {
     "name": "stdout",
     "output_type": "stream",
     "text": [
      "+--------------------+-------------+--------------------+--------------------+-------------------+------+-------------+\n",
      "|            order_id|order_item_id|          product_id|           seller_id|shipping_limit_date| price|freight_value|\n",
      "+--------------------+-------------+--------------------+--------------------+-------------------+------+-------------+\n",
      "|00010242fe8c5a6d1...|            1|4244733e06e7ecb49...|48436dade18ac8b2b...|2017-09-19 09:45:35|  58.9|        13.29|\n",
      "|00018f77f2f0320c5...|            1|e5f2d52b802189ee6...|dd7ddc04e1b6c2c61...|2017-05-03 11:05:13| 239.9|        19.93|\n",
      "|000229ec398224ef6...|            1|c777355d18b72b67a...|5b51032eddd242adc...|2018-01-18 14:48:30| 199.0|        17.87|\n",
      "|00024acbcdf0a6daa...|            1|7634da152a4610f15...|9d7a1d34a50524090...|2018-08-15 10:10:18| 12.99|        12.79|\n",
      "|00042b26cf59d7ce6...|            1|ac6c3623068f30de0...|df560393f3a51e745...|2017-02-13 13:57:51| 199.9|        18.14|\n",
      "|00048cc3ae777c65d...|            1|ef92defde845ab845...|6426d21aca402a131...|2017-05-23 03:55:27|  21.9|        12.69|\n",
      "|00054e8431b9d7675...|            1|8d4f2bb7e93e6710a...|7040e82f899a04d1b...|2017-12-14 12:10:31|  19.9|        11.85|\n",
      "|000576fe39319847c...|            1|557d850972a7d6f79...|5996cddab893a4652...|2018-07-10 12:30:45| 810.0|        70.75|\n",
      "|0005a1a1728c9d785...|            1|310ae3c140ff94b03...|a416b6a846a117243...|2018-03-26 18:31:29|145.95|        11.65|\n",
      "|0005f50442cb953dc...|            1|4535b0e1091c278df...|ba143b05f0110f0dc...|2018-07-06 14:10:56| 53.99|         11.4|\n",
      "|00061f2a7bc09da83...|            1|d63c1011f49d98b97...|cc419e0650a3c5ba7...|2018-03-29 22:28:09| 59.99|         8.88|\n",
      "|00063b381e2406b52...|            1|f177554ea93259a5b...|8602a61d680a10a82...|2018-07-31 17:30:39|  45.0|        12.98|\n",
      "|0006ec9db01a64e59...|            1|99a4788cb24856965...|4a3ca9315b744ce9f...|2018-07-26 17:24:20|  74.0|        23.32|\n",
      "|0008288aa423d2a3f...|            1|368c6c730842d7801...|1f50f920176fa81da...|2018-02-21 02:55:52|  49.9|        13.37|\n",
      "|0008288aa423d2a3f...|            2|368c6c730842d7801...|1f50f920176fa81da...|2018-02-21 02:55:52|  49.9|        13.37|\n",
      "|0009792311464db53...|            1|8cab8abac59158715...|530ec6109d11eaaf8...|2018-08-17 12:15:10|  99.9|        27.65|\n",
      "|0009c9a17f916a706...|            1|3f27ac8e699df3d30...|fcb5ace8bcc92f757...|2018-05-02 09:31:53| 639.0|        11.34|\n",
      "|000aed2e25dbad2f9...|            1|4fa33915031a8cde0...|fe2032dab1a61af87...|2018-05-16 20:57:03| 144.0|         8.77|\n",
      "|000c3e6612759851c...|            1|b50c950aba0dcead2...|218d46b86c1881d02...|2017-08-21 03:33:13|  99.0|        13.71|\n",
      "|000e562887b1f2006...|            1|5ed9eaf534f6936b5...|8cbac7e12637ed9cf...|2018-02-28 12:08:37|  25.0|        16.11|\n",
      "+--------------------+-------------+--------------------+--------------------+-------------------+------+-------------+\n",
      "only showing top 20 rows\n",
      "\n"
     ]
    }
   ],
   "source": [
    "order_item_df.show()"
   ]
  },
  {
   "cell_type": "code",
   "execution_count": 82,
   "id": "ddad721a-1920-41bf-8957-03d02c83e524",
   "metadata": {},
   "outputs": [
    {
     "name": "stderr",
     "output_type": "stream",
     "text": [
      "                                                                                \r"
     ]
    }
   ],
   "source": [
    "quantiles = order_item_df.approxQuantile('price',[0.01,0.99],0.0)\n",
    "low_cutoff,high_cutoff = quantiles[0],quantiles[1]"
   ]
  },
  {
   "cell_type": "code",
   "execution_count": 84,
   "id": "28adf404-9527-40f2-b7a1-161c505f5a6b",
   "metadata": {},
   "outputs": [
    {
     "name": "stderr",
     "output_type": "stream",
     "text": [
      "[Stage 98:=============================>                            (1 + 1) / 2]\r"
     ]
    },
    {
     "name": "stdout",
     "output_type": "stream",
     "text": [
      "+-------+------------------+\n",
      "|summary|             price|\n",
      "+-------+------------------+\n",
      "|  count|            112650|\n",
      "|   mean|120.65373901471354|\n",
      "| stddev|183.63392805026012|\n",
      "|    min|              0.85|\n",
      "|    25%|              39.9|\n",
      "|    50%|             74.99|\n",
      "|    75%|             134.9|\n",
      "|    max|            6735.0|\n",
      "+-------+------------------+\n",
      "\n"
     ]
    },
    {
     "name": "stderr",
     "output_type": "stream",
     "text": [
      "                                                                                \r"
     ]
    }
   ],
   "source": [
    "# order_item_df.select('price').summary().show()"
   ]
  },
  {
   "cell_type": "code",
   "execution_count": 83,
   "id": "ade52c18-dd26-4d9b-bb13-df3a81694856",
   "metadata": {},
   "outputs": [
    {
     "data": {
      "text/plain": [
       "(9.99, 890.0)"
      ]
     },
     "execution_count": 83,
     "metadata": {},
     "output_type": "execute_result"
    }
   ],
   "source": [
    "low_cutoff,high_cutoff"
   ]
  },
  {
   "cell_type": "code",
   "execution_count": 88,
   "id": "4b6aefba-d543-4886-ad53-149683c7813b",
   "metadata": {},
   "outputs": [],
   "source": [
    "order_item_df_cleaned = order_item_df.filter((col('price') >=low_cutoff) & (col('price') <=high_cutoff))"
   ]
  },
  {
   "cell_type": "code",
   "execution_count": null,
   "id": "01108b51-982e-482b-9fcc-67a8a5474bda",
   "metadata": {},
   "outputs": [],
   "source": []
  },
  {
   "cell_type": "code",
   "execution_count": null,
   "id": "ddc70ecd-42ed-4e21-a624-612f98fce1de",
   "metadata": {},
   "outputs": [],
   "source": []
  },
  {
   "cell_type": "code",
   "execution_count": 91,
   "id": "620bfe71-0ee3-41d7-92c0-8a47fe0f2970",
   "metadata": {},
   "outputs": [
    {
     "name": "stdout",
     "output_type": "stream",
     "text": [
      "+-------+--------------------+\n",
      "|summary|payment_installments|\n",
      "+-------+--------------------+\n",
      "|  count|              103886|\n",
      "|   mean|   2.853348863176944|\n",
      "| stddev|  2.6870506738564925|\n",
      "|    min|                   0|\n",
      "|    25%|                   1|\n",
      "|    50%|                   1|\n",
      "|    75%|                   4|\n",
      "|    max|                  24|\n",
      "+-------+--------------------+\n",
      "\n"
     ]
    }
   ],
   "source": [
    "payments_df_cleaned.select('payment_installments').summary().show()"
   ]
  },
  {
   "cell_type": "code",
   "execution_count": 93,
   "id": "96bf6eb3-9497-433c-83e9-64a924dc0d56",
   "metadata": {},
   "outputs": [
    {
     "name": "stdout",
     "output_type": "stream",
     "text": [
      "+--------------------+---------------------+-------------------+--------------------------+------------------+----------------+-----------------+-----------------+----------------+\n",
      "|          product_id|product_category_name|product_name_lenght|product_description_lenght|product_photos_qty|product_weight_g|product_length_cm|product_height_cm|product_width_cm|\n",
      "+--------------------+---------------------+-------------------+--------------------------+------------------+----------------+-----------------+-----------------+----------------+\n",
      "|1e9e8ef04dbcff454...|           perfumaria|                 40|                       287|                 1|             225|               16|               10|              14|\n",
      "|3aa071139cb16b67c...|                artes|                 44|                       276|                 1|            1000|               30|               18|              20|\n",
      "|96bd76ec8810374ed...|        esporte_lazer|                 46|                       250|                 1|             154|               18|                9|              15|\n",
      "|cef67bcfe19066a93...|                bebes|                 27|                       261|                 1|             371|               26|                4|              26|\n",
      "|9dc1a7de274444849...| utilidades_domest...|                 37|                       402|                 4|             625|               20|               17|              13|\n",
      "|41d3672d4792049fa...| instrumentos_musi...|                 60|                       745|                 1|             200|               38|                5|              11|\n",
      "|732bd381ad09e530f...|           cool_stuff|                 56|                      1272|                 4|           18350|               70|               24|              44|\n",
      "|2548af3e6e77a690c...|     moveis_decoracao|                 56|                       184|                 2|             900|               40|                8|              40|\n",
      "|37cc742be07708b53...|     eletrodomesticos|                 57|                       163|                 1|             400|               27|               13|              17|\n",
      "|8c92109888e8cdf9d...|           brinquedos|                 36|                      1156|                 1|             600|               17|               10|              12|\n",
      "|14aa47b7fe5c25522...|      cama_mesa_banho|                 54|                       630|                 1|            1100|               16|               10|              16|\n",
      "|03b63c5fc16691530...|                bebes|                 49|                       728|                 4|            7150|               50|               19|              45|\n",
      "|cf55509ea8edaaac1...| instrumentos_musi...|                 43|                      1827|                 3|             250|               17|                7|              17|\n",
      "|7bb6f29c2be577161...|     moveis_decoracao|                 51|                      2083|                 2|             600|               68|               11|              13|\n",
      "|eb31436580a610f20...| construcao_ferram...|                 59|                      1602|                 4|             200|               17|                7|              17|\n",
      "|3bb7f144022e67327...|        esporte_lazer|                 22|                      3021|                 1|             800|               16|                2|              11|\n",
      "|6a2fb4dd53d2cdb88...|           perfumaria|                 39|                       346|                 2|             400|               27|                5|              20|\n",
      "|a1b71017a84f92fd8...| informatica_acess...|                 59|                       636|                 1|             900|               40|               15|              20|\n",
      "|a0736b92e52f6cead...|     moveis_decoracao|                 56|                       296|                 2|            1700|              100|                7|              15|\n",
      "|f53103a77d9cf245e...|      cama_mesa_banho|                 52|                       206|                 1|             500|               16|               10|              16|\n",
      "+--------------------+---------------------+-------------------+--------------------------+------------------+----------------+-----------------+-----------------+----------------+\n",
      "only showing top 20 rows\n",
      "\n"
     ]
    }
   ],
   "source": [
    "products_df.show()"
   ]
  },
  {
   "cell_type": "code",
   "execution_count": 94,
   "id": "1421f16a-426d-48f0-ad24-8374255707da",
   "metadata": {},
   "outputs": [],
   "source": [
    "products_df_cleaned = products_df.withColumn(\n",
    "    'product_size_category',\n",
    "    when(col('product_weight_g') <500,'Small')\n",
    "    .when(col('product_weight_g').between(500,2000),'Medium')\n",
    "    .otherwise('Large')\n",
    ")"
   ]
  },
  {
   "cell_type": "code",
   "execution_count": null,
   "id": "87b15cde-c28d-4211-9e20-3fcd1a39002d",
   "metadata": {},
   "outputs": [],
   "source": []
  },
  {
   "cell_type": "code",
   "execution_count": 95,
   "id": "725dade3-536c-4e93-97f1-9c72ff14a035",
   "metadata": {},
   "outputs": [
    {
     "name": "stdout",
     "output_type": "stream",
     "text": [
      "+--------------------+---------------------+-------------------+--------------------------+------------------+----------------+-----------------+-----------------+----------------+---------------------+\n",
      "|          product_id|product_category_name|product_name_lenght|product_description_lenght|product_photos_qty|product_weight_g|product_length_cm|product_height_cm|product_width_cm|product_size_category|\n",
      "+--------------------+---------------------+-------------------+--------------------------+------------------+----------------+-----------------+-----------------+----------------+---------------------+\n",
      "|1e9e8ef04dbcff454...|           perfumaria|                 40|                       287|                 1|             225|               16|               10|              14|                Small|\n",
      "|3aa071139cb16b67c...|                artes|                 44|                       276|                 1|            1000|               30|               18|              20|               Medium|\n",
      "|96bd76ec8810374ed...|        esporte_lazer|                 46|                       250|                 1|             154|               18|                9|              15|                Small|\n",
      "|cef67bcfe19066a93...|                bebes|                 27|                       261|                 1|             371|               26|                4|              26|                Small|\n",
      "|9dc1a7de274444849...| utilidades_domest...|                 37|                       402|                 4|             625|               20|               17|              13|               Medium|\n",
      "|41d3672d4792049fa...| instrumentos_musi...|                 60|                       745|                 1|             200|               38|                5|              11|                Small|\n",
      "|732bd381ad09e530f...|           cool_stuff|                 56|                      1272|                 4|           18350|               70|               24|              44|                Large|\n",
      "|2548af3e6e77a690c...|     moveis_decoracao|                 56|                       184|                 2|             900|               40|                8|              40|               Medium|\n",
      "|37cc742be07708b53...|     eletrodomesticos|                 57|                       163|                 1|             400|               27|               13|              17|                Small|\n",
      "|8c92109888e8cdf9d...|           brinquedos|                 36|                      1156|                 1|             600|               17|               10|              12|               Medium|\n",
      "|14aa47b7fe5c25522...|      cama_mesa_banho|                 54|                       630|                 1|            1100|               16|               10|              16|               Medium|\n",
      "|03b63c5fc16691530...|                bebes|                 49|                       728|                 4|            7150|               50|               19|              45|                Large|\n",
      "|cf55509ea8edaaac1...| instrumentos_musi...|                 43|                      1827|                 3|             250|               17|                7|              17|                Small|\n",
      "|7bb6f29c2be577161...|     moveis_decoracao|                 51|                      2083|                 2|             600|               68|               11|              13|               Medium|\n",
      "|eb31436580a610f20...| construcao_ferram...|                 59|                      1602|                 4|             200|               17|                7|              17|                Small|\n",
      "|3bb7f144022e67327...|        esporte_lazer|                 22|                      3021|                 1|             800|               16|                2|              11|               Medium|\n",
      "|6a2fb4dd53d2cdb88...|           perfumaria|                 39|                       346|                 2|             400|               27|                5|              20|                Small|\n",
      "|a1b71017a84f92fd8...| informatica_acess...|                 59|                       636|                 1|             900|               40|               15|              20|               Medium|\n",
      "|a0736b92e52f6cead...|     moveis_decoracao|                 56|                       296|                 2|            1700|              100|                7|              15|               Medium|\n",
      "|f53103a77d9cf245e...|      cama_mesa_banho|                 52|                       206|                 1|             500|               16|               10|              16|               Medium|\n",
      "+--------------------+---------------------+-------------------+--------------------------+------------------+----------------+-----------------+-----------------+----------------+---------------------+\n",
      "only showing top 20 rows\n",
      "\n"
     ]
    }
   ],
   "source": [
    "products_df_cleaned.show()"
   ]
  },
  {
   "cell_type": "code",
   "execution_count": null,
   "id": "1ece34d8-e5ff-468f-9217-b13017eaba38",
   "metadata": {},
   "outputs": [],
   "source": []
  },
  {
   "cell_type": "code",
   "execution_count": null,
   "id": "619d993b-b729-40a5-b1e3-b7dee7ae4bb1",
   "metadata": {},
   "outputs": [],
   "source": [
    "# Total Revenue per Seller"
   ]
  },
  {
   "cell_type": "code",
   "execution_count": null,
   "id": "966f886e-9c3b-4645-bbb4-05a6f7c541e4",
   "metadata": {},
   "outputs": [],
   "source": []
  },
  {
   "cell_type": "code",
   "execution_count": 99,
   "id": "f19bc541-8a19-4a1a-be55-1e6e11cfaee1",
   "metadata": {},
   "outputs": [],
   "source": [
    "!hadoop fs -mkdir /data/olist_proc"
   ]
  },
  {
   "cell_type": "code",
   "execution_count": 101,
   "id": "961c83e0-bc6f-45ca-88ef-2a4e791d3064",
   "metadata": {},
   "outputs": [
    {
     "name": "stderr",
     "output_type": "stream",
     "text": [
      "                                                                                \r"
     ]
    }
   ],
   "source": [
    "order_with_details.write.mode('overwrite').parquet('/data/olist_proc/cleaned_data.parquet')"
   ]
  },
  {
   "cell_type": "code",
   "execution_count": 104,
   "id": "2531e7c1-788f-4df1-84c6-3ec5cdd97e4b",
   "metadata": {},
   "outputs": [],
   "source": [
    "products_df_cleaned.write.mode('overwrite').parquet('/data/olist_proc/product_df_cleaned.parquet')"
   ]
  },
  {
   "cell_type": "code",
   "execution_count": 105,
   "id": "a4a3c450-71cb-4aa9-a218-087ec9bdae57",
   "metadata": {},
   "outputs": [
    {
     "name": "stdout",
     "output_type": "stream",
     "text": [
      "Found 2 items\n",
      "drwxr-xr-x   - root hadoop          0 2025-02-26 13:14 /data/olist_proc/cleaned_data.parquet\n",
      "drwxr-xr-x   - root hadoop          0 2025-02-26 13:16 /data/olist_proc/product_df_cleaned.parquet\n"
     ]
    }
   ],
   "source": [
    "!hadoop fs -ls /data/olist_proc"
   ]
  },
  {
   "cell_type": "code",
   "execution_count": 103,
   "id": "4f29237d-45ec-48f4-8198-50043d77e97d",
   "metadata": {},
   "outputs": [
    {
     "name": "stdout",
     "output_type": "stream",
     "text": [
      "root\n",
      " |-- customer_id: string (nullable = true)\n",
      " |-- order_id: string (nullable = true)\n",
      " |-- order_status: string (nullable = true)\n",
      " |-- order_purchase_timestamp: date (nullable = true)\n",
      " |-- order_approved_at: timestamp (nullable = true)\n",
      " |-- order_delivered_carrier_date: timestamp (nullable = true)\n",
      " |-- order_delivered_customer_date: timestamp (nullable = true)\n",
      " |-- order_estimated_delivery_date: timestamp (nullable = true)\n",
      " |-- order_item_id: integer (nullable = true)\n",
      " |-- product_id: string (nullable = true)\n",
      " |-- seller_id: string (nullable = true)\n",
      " |-- shipping_limit_date: timestamp (nullable = true)\n",
      " |-- price: double (nullable = true)\n",
      " |-- freight_value: double (nullable = true)\n",
      " |-- payment_sequential: integer (nullable = true)\n",
      " |-- payment_type: string (nullable = true)\n",
      " |-- payment_installments: integer (nullable = true)\n",
      " |-- payment_value: double (nullable = true)\n",
      " |-- payment_value_imputed: double (nullable = true)\n",
      " |-- customer_unique_id: string (nullable = true)\n",
      " |-- customer_zip_code_prefix: string (nullable = true)\n",
      " |-- customer_city: string (nullable = true)\n",
      " |-- customer_state: string (nullable = true)\n",
      "\n"
     ]
    }
   ],
   "source": [
    "order_with_details.printSchema()"
   ]
  },
  {
   "cell_type": "code",
   "execution_count": 106,
   "id": "98a95991-e4f6-45f8-9a70-e875057ac987",
   "metadata": {},
   "outputs": [
    {
     "name": "stdout",
     "output_type": "stream",
     "text": [
      "root\n",
      " |-- product_id: string (nullable = true)\n",
      " |-- product_category_name: string (nullable = true)\n",
      " |-- product_name_lenght: integer (nullable = true)\n",
      " |-- product_description_lenght: integer (nullable = true)\n",
      " |-- product_photos_qty: integer (nullable = true)\n",
      " |-- product_weight_g: integer (nullable = true)\n",
      " |-- product_length_cm: integer (nullable = true)\n",
      " |-- product_height_cm: integer (nullable = true)\n",
      " |-- product_width_cm: integer (nullable = true)\n",
      " |-- product_size_category: string (nullable = false)\n",
      "\n"
     ]
    }
   ],
   "source": [
    "products_df_cleaned.printSchema()"
   ]
  },
  {
   "cell_type": "code",
   "execution_count": null,
   "id": "457e39d2-0958-4da0-923c-152b7689b44c",
   "metadata": {},
   "outputs": [],
   "source": []
  }
 ],
 "metadata": {
  "kernelspec": {
   "display_name": "PySpark",
   "language": "python",
   "name": "pyspark"
  },
  "language_info": {
   "codemirror_mode": {
    "name": "ipython",
    "version": 3
   },
   "file_extension": ".py",
   "mimetype": "text/x-python",
   "name": "python",
   "nbconvert_exporter": "python",
   "pygments_lexer": "ipython3",
   "version": "3.10.8"
  }
 },
 "nbformat": 4,
 "nbformat_minor": 5
}
