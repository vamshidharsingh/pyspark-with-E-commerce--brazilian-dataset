{
 "cells": [
  {
   "cell_type": "markdown",
   "id": "36f4ad84-a2fc-4408-b69a-1440a3a9b46f",
   "metadata": {},
   "source": [
    "### Step 1: Setting Up the Spark Environment\n",
    "\n",
    "In a real-world company setup, we wouldn’t use Google Colab directly. Instead, we would:\n",
    "\n",
    "1.  **1\\. Deploy a Spark Cluster** (like AWS EMR, GCP Dataproc, or an on-prem Hadoop cluster, Azure HD Insight).\n",
    "2.  **2\\. Store Data in HDFS** instead of local storage.\n",
    "\n",
    "*   Load data from Kaggle i.e. Data Source (#!/bin/bash curl -L -o ~/olist/brazilian-ecommerce.zip\\\\ https://www.kaggle.com/api/v1/datasets/download/olistbr/brazilian-ecommerce)\n",
    "*     !unzip brazilian-ecommerce.zip -d ~/olist/data/\n",
    "    \n",
    "\n",
    "3.  **3\\. Use PySpark** to interact with data."
   ]
  },
  {
   "cell_type": "code",
   "execution_count": null,
   "id": "df521143-911a-4faf-b30a-12cb887dda8e",
   "metadata": {},
   "outputs": [],
   "source": [
    "#!/bin/bash\n",
    "curl -L -o ~/Downloads/brazilian-ecommerce.zip\\\n",
    "  https://www.kaggle.com/api/v1/datasets/download/olistbr/brazilian-ecommerce"
   ]
  },
  {
   "cell_type": "code",
   "execution_count": null,
   "id": "d5de9722-144d-47b9-bbfa-29f945393e1d",
   "metadata": {},
   "outputs": [],
   "source": [
    "from pyspark.sql import SparkSession\n",
    "\n",
    "spark = SparkSession.builder \\\n",
    ".appName('OlistData') \\\n",
    ".getOrCreate()"
   ]
  },
  {
   "cell_type": "code",
   "execution_count": 2,
   "id": "bac18636-9079-4c54-b925-f561903ddf91",
   "metadata": {},
   "outputs": [
    {
     "data": {
      "text/html": [
       "\n",
       "            <div>\n",
       "                <p><b>SparkSession - hive</b></p>\n",
       "                \n",
       "        <div>\n",
       "            <p><b>SparkContext</b></p>\n",
       "\n",
       "            <p><a href=\"http://my-cluster-m.us-central1-c.c.bigdata-project-448115.internal:43829\">Spark UI</a></p>\n",
       "\n",
       "            <dl>\n",
       "              <dt>Version</dt>\n",
       "                <dd><code>v3.3.2</code></dd>\n",
       "              <dt>Master</dt>\n",
       "                <dd><code>yarn</code></dd>\n",
       "              <dt>AppName</dt>\n",
       "                <dd><code>PySparkShell</code></dd>\n",
       "            </dl>\n",
       "        </div>\n",
       "        \n",
       "            </div>\n",
       "        "
      ],
      "text/plain": [
       "<pyspark.sql.session.SparkSession at 0x7f07f8292740>"
      ]
     },
     "execution_count": 2,
     "metadata": {},
     "output_type": "execute_result"
    }
   ],
   "source": [
    "spark"
   ]
  },
  {
   "cell_type": "code",
   "execution_count": null,
   "id": "626c4472-0832-4995-b4c1-44081e1b25d3",
   "metadata": {},
   "outputs": [],
   "source": [
    "!hadoop fs -ls /data/olist/"
   ]
  },
  {
   "cell_type": "code",
   "execution_count": 2,
   "id": "d88087c1-3954-41f9-883a-18f9180fccd5",
   "metadata": {},
   "outputs": [],
   "source": [
    "hdfs_path = '/data/olist/'"
   ]
  },
  {
   "cell_type": "code",
   "execution_count": 3,
   "id": "fded4e6f-ff90-46dd-a543-51e7caf5d93c",
   "metadata": {},
   "outputs": [
    {
     "name": "stderr",
     "output_type": "stream",
     "text": [
      "                                                                                \r"
     ]
    }
   ],
   "source": [
    "customers_df = spark.read.csv(hdfs_path + 'olist_customers_dataset.csv',header=True,inferSchema=True)"
   ]
  },
  {
   "cell_type": "code",
   "execution_count": 4,
   "id": "42d6d398-a1fb-4edb-8a7b-0b55b112cfc8",
   "metadata": {},
   "outputs": [
    {
     "name": "stdout",
     "output_type": "stream",
     "text": [
      "+--------------------+--------------------+------------------------+--------------------+--------------+\n",
      "|         customer_id|  customer_unique_id|customer_zip_code_prefix|       customer_city|customer_state|\n",
      "+--------------------+--------------------+------------------------+--------------------+--------------+\n",
      "|06b8999e2fba1a1fb...|861eff4711a542e4b...|                   14409|              franca|            SP|\n",
      "|18955e83d337fd6b2...|290c77bc529b7ac93...|                    9790|sao bernardo do c...|            SP|\n",
      "|4e7b3e00288586ebd...|060e732b5b29e8181...|                    1151|           sao paulo|            SP|\n",
      "|b2b6027bc5c5109e5...|259dac757896d24d7...|                    8775|     mogi das cruzes|            SP|\n",
      "|4f2d8ab171c80ec83...|345ecd01c38d18a90...|                   13056|            campinas|            SP|\n",
      "+--------------------+--------------------+------------------------+--------------------+--------------+\n",
      "only showing top 5 rows\n",
      "\n"
     ]
    }
   ],
   "source": [
    "customers_df.show(5)"
   ]
  },
  {
   "cell_type": "code",
   "execution_count": 5,
   "id": "eff4865c-95c8-4b3f-a9e3-2b7e9344a3d8",
   "metadata": {},
   "outputs": [
    {
     "name": "stderr",
     "output_type": "stream",
     "text": [
      "                                                                                \r"
     ]
    }
   ],
   "source": [
    "customers_df = spark.read.csv(hdfs_path + 'olist_customers_dataset.csv',header=True,inferSchema=True)\n",
    "orders_df = spark.read.csv(hdfs_path + 'olist_orders_dataset.csv',header=True,inferSchema=True)\n",
    "order_item_df = spark.read.csv(hdfs_path + 'olist_order_items_dataset.csv',header=True,inferSchema=True)\n",
    "payments_df = spark.read.csv(hdfs_path + 'olist_order_payments_dataset.csv',header=True,inferSchema=True)\n",
    "reviews_df = spark.read.csv(hdfs_path + 'olist_order_reviews_dataset.csv',header=True,inferSchema=True)\n",
    "products_df = spark.read.csv(hdfs_path + 'olist_products_dataset.csv',header=True,inferSchema=True)\n",
    "sellers_df = spark.read.csv(hdfs_path + 'olist_sellers_dataset.csv',header=True,inferSchema=True)\n",
    "geolocation_df = spark.read.csv(hdfs_path + 'olist_geolocation_dataset.csv',header=True,inferSchema=True)\n",
    "category_translation_df = spark.read.csv(hdfs_path + 'product_category_name_translation.csv',header=True,inferSchema=True)"
   ]
  },
  {
   "cell_type": "code",
   "execution_count": 6,
   "id": "57643bb1-69f2-46df-a6d3-962508e29e25",
   "metadata": {},
   "outputs": [
    {
     "name": "stdout",
     "output_type": "stream",
     "text": [
      "root\n",
      " |-- customer_id: string (nullable = true)\n",
      " |-- customer_unique_id: string (nullable = true)\n",
      " |-- customer_zip_code_prefix: integer (nullable = true)\n",
      " |-- customer_city: string (nullable = true)\n",
      " |-- customer_state: string (nullable = true)\n",
      "\n"
     ]
    }
   ],
   "source": [
    "customers_df.printSchema()"
   ]
  },
  {
   "cell_type": "code",
   "execution_count": 7,
   "id": "f4d119d4-7443-457f-8e94-4a5fd034324b",
   "metadata": {},
   "outputs": [
    {
     "name": "stdout",
     "output_type": "stream",
     "text": [
      "root\n",
      " |-- order_id: string (nullable = true)\n",
      " |-- customer_id: string (nullable = true)\n",
      " |-- order_status: string (nullable = true)\n",
      " |-- order_purchase_timestamp: timestamp (nullable = true)\n",
      " |-- order_approved_at: timestamp (nullable = true)\n",
      " |-- order_delivered_carrier_date: timestamp (nullable = true)\n",
      " |-- order_delivered_customer_date: timestamp (nullable = true)\n",
      " |-- order_estimated_delivery_date: timestamp (nullable = true)\n",
      "\n"
     ]
    }
   ],
   "source": [
    "orders_df.printSchema()"
   ]
  },
  {
   "cell_type": "code",
   "execution_count": 8,
   "id": "9b1694a1-aa28-4b9d-b9c9-b73a30e1a013",
   "metadata": {},
   "outputs": [
    {
     "name": "stdout",
     "output_type": "stream",
     "text": [
      "Customers : 99441 rows\n",
      "Orders : 99441 rows\n"
     ]
    }
   ],
   "source": [
    "# Data Lekage or Drop\n",
    "\n",
    "print(f'Customers : {customers_df.count()} rows')\n",
    "print(f'Orders : {orders_df.count()} rows')"
   ]
  },
  {
   "cell_type": "code",
   "execution_count": 9,
   "id": "88f68cd4-07c6-4534-9736-016984638622",
   "metadata": {},
   "outputs": [
    {
     "data": {
      "text/plain": [
       "['customer_id',\n",
       " 'customer_unique_id',\n",
       " 'customer_zip_code_prefix',\n",
       " 'customer_city',\n",
       " 'customer_state']"
      ]
     },
     "execution_count": 9,
     "metadata": {},
     "output_type": "execute_result"
    }
   ],
   "source": [
    "customers_df.columns"
   ]
  },
  {
   "cell_type": "code",
   "execution_count": 12,
   "id": "5e4e68b2-867b-4a0f-8f2c-fd9666d5dee4",
   "metadata": {},
   "outputs": [
    {
     "name": "stdout",
     "output_type": "stream",
     "text": [
      "+-----------+------------------+------------------------+-------------+--------------+\n",
      "|customer_id|customer_unique_id|customer_zip_code_prefix|customer_city|customer_state|\n",
      "+-----------+------------------+------------------------+-------------+--------------+\n",
      "|      false|             false|                   false|        false|         false|\n",
      "|      false|             false|                   false|        false|         false|\n",
      "|      false|             false|                   false|        false|         false|\n",
      "|      false|             false|                   false|        false|         false|\n",
      "|      false|             false|                   false|        false|         false|\n",
      "|      false|             false|                   false|        false|         false|\n",
      "|      false|             false|                   false|        false|         false|\n",
      "|      false|             false|                   false|        false|         false|\n",
      "|      false|             false|                   false|        false|         false|\n",
      "|      false|             false|                   false|        false|         false|\n",
      "|      false|             false|                   false|        false|         false|\n",
      "|      false|             false|                   false|        false|         false|\n",
      "|      false|             false|                   false|        false|         false|\n",
      "|      false|             false|                   false|        false|         false|\n",
      "|      false|             false|                   false|        false|         false|\n",
      "|      false|             false|                   false|        false|         false|\n",
      "|      false|             false|                   false|        false|         false|\n",
      "|      false|             false|                   false|        false|         false|\n",
      "|      false|             false|                   false|        false|         false|\n",
      "|      false|             false|                   false|        false|         false|\n",
      "+-----------+------------------+------------------------+-------------+--------------+\n",
      "only showing top 20 rows\n",
      "\n"
     ]
    }
   ],
   "source": [
    "from pyspark.sql.functions import col\n",
    "\n",
    "# Check for nulls in critical fields\n",
    "customers_df.select([col(c).isNull().alias(c) for c in customers_df.columns]).show()\n"
   ]
  },
  {
   "cell_type": "code",
   "execution_count": 13,
   "id": "d622dc00-e738-424b-887d-d5d66ad5f4a7",
   "metadata": {},
   "outputs": [
    {
     "name": "stdout",
     "output_type": "stream",
     "text": [
      "+-----------+------------------+------------------------+-------------+--------------+\n",
      "|customer_id|customer_unique_id|customer_zip_code_prefix|customer_city|customer_state|\n",
      "+-----------+------------------+------------------------+-------------+--------------+\n",
      "|          0|                 0|                       0|            0|             0|\n",
      "+-----------+------------------+------------------------+-------------+--------------+\n",
      "\n"
     ]
    }
   ],
   "source": [
    "from pyspark.sql.functions import col,when ,count\n",
    "\n",
    "# Check for nulls in critical fields\n",
    "customers_df.select([count(when(col(c).isNull(),1)).alias(c) for c in customers_df.columns]).show()\n"
   ]
  },
  {
   "cell_type": "code",
   "execution_count": 14,
   "id": "76494f11-ff64-46fb-8f0c-889511a65029",
   "metadata": {},
   "outputs": [
    {
     "name": "stderr",
     "output_type": "stream",
     "text": [
      "[Stage 37:=============================>                            (1 + 1) / 2]\r"
     ]
    },
    {
     "name": "stdout",
     "output_type": "stream",
     "text": [
      "+-----------+-----+\n",
      "|customer_id|count|\n",
      "+-----------+-----+\n",
      "+-----------+-----+\n",
      "\n"
     ]
    },
    {
     "name": "stderr",
     "output_type": "stream",
     "text": [
      "                                                                                \r"
     ]
    }
   ],
   "source": [
    "# Duplicate Values\n",
    "\n",
    "customers_df.groupBy('customer_id').count().filter('count>1').show()"
   ]
  },
  {
   "cell_type": "code",
   "execution_count": null,
   "id": "d99d04af-95e5-41d7-8cfc-d1febf15cc5e",
   "metadata": {},
   "outputs": [],
   "source": []
  },
  {
   "cell_type": "code",
   "execution_count": 17,
   "id": "40e7ca2d-4482-4a5e-bb7c-9c60417a30b3",
   "metadata": {},
   "outputs": [
    {
     "name": "stdout",
     "output_type": "stream",
     "text": [
      "+--------------+-----+\n",
      "|customer_state|count|\n",
      "+--------------+-----+\n",
      "|            SP|41746|\n",
      "|            RJ|12852|\n",
      "|            MG|11635|\n",
      "|            RS| 5466|\n",
      "|            PR| 5045|\n",
      "|            SC| 3637|\n",
      "|            BA| 3380|\n",
      "|            DF| 2140|\n",
      "|            ES| 2033|\n",
      "|            GO| 2020|\n",
      "|            PE| 1652|\n",
      "|            CE| 1336|\n",
      "|            PA|  975|\n",
      "|            MT|  907|\n",
      "|            MA|  747|\n",
      "|            MS|  715|\n",
      "|            PB|  536|\n",
      "|            PI|  495|\n",
      "|            RN|  485|\n",
      "|            AL|  413|\n",
      "+--------------+-----+\n",
      "only showing top 20 rows\n",
      "\n"
     ]
    }
   ],
   "source": [
    "# Customer Distribution by state\n",
    "\n",
    "customers_df.groupBy('customer_state').count().orderBy('count',ascending=False).show()"
   ]
  },
  {
   "cell_type": "code",
   "execution_count": 18,
   "id": "b8687c97-f52d-488a-b6dd-e73d394d8db1",
   "metadata": {},
   "outputs": [
    {
     "name": "stdout",
     "output_type": "stream",
     "text": [
      "+--------------------+--------------------+------------+------------------------+-------------------+----------------------------+-----------------------------+-----------------------------+\n",
      "|            order_id|         customer_id|order_status|order_purchase_timestamp|  order_approved_at|order_delivered_carrier_date|order_delivered_customer_date|order_estimated_delivery_date|\n",
      "+--------------------+--------------------+------------+------------------------+-------------------+----------------------------+-----------------------------+-----------------------------+\n",
      "|e481f51cbdc54678b...|9ef432eb625129730...|   delivered|     2017-10-02 10:56:33|2017-10-02 11:07:15|         2017-10-04 19:55:00|          2017-10-10 21:25:13|          2017-10-18 00:00:00|\n",
      "|53cdb2fc8bc7dce0b...|b0830fb4747a6c6d2...|   delivered|     2018-07-24 20:41:37|2018-07-26 03:24:27|         2018-07-26 14:31:00|          2018-08-07 15:27:45|          2018-08-13 00:00:00|\n",
      "|47770eb9100c2d0c4...|41ce2a54c0b03bf34...|   delivered|     2018-08-08 08:38:49|2018-08-08 08:55:23|         2018-08-08 13:50:00|          2018-08-17 18:06:29|          2018-09-04 00:00:00|\n",
      "|949d5b44dbf5de918...|f88197465ea7920ad...|   delivered|     2017-11-18 19:28:06|2017-11-18 19:45:59|         2017-11-22 13:39:59|          2017-12-02 00:28:42|          2017-12-15 00:00:00|\n",
      "|ad21c59c0840e6cb8...|8ab97904e6daea886...|   delivered|     2018-02-13 21:18:39|2018-02-13 22:20:29|         2018-02-14 19:46:34|          2018-02-16 18:17:02|          2018-02-26 00:00:00|\n",
      "|a4591c265e18cb1dc...|503740e9ca751ccdd...|   delivered|     2017-07-09 21:57:05|2017-07-09 22:10:13|         2017-07-11 14:58:04|          2017-07-26 10:57:55|          2017-08-01 00:00:00|\n",
      "|136cce7faa42fdb2c...|ed0271e0b7da060a3...|    invoiced|     2017-04-11 12:22:08|2017-04-13 13:25:17|                        null|                         null|          2017-05-09 00:00:00|\n",
      "|6514b8ad8028c9f2c...|9bdf08b4b3b52b552...|   delivered|     2017-05-16 13:10:30|2017-05-16 13:22:11|         2017-05-22 10:07:46|          2017-05-26 12:55:51|          2017-06-07 00:00:00|\n",
      "|76c6e866289321a7c...|f54a9f0e6b351c431...|   delivered|     2017-01-23 18:29:09|2017-01-25 02:50:47|         2017-01-26 14:16:31|          2017-02-02 14:08:10|          2017-03-06 00:00:00|\n",
      "|e69bfb5eb88e0ed6a...|31ad1d1b63eb99624...|   delivered|     2017-07-29 11:55:02|2017-07-29 12:05:32|         2017-08-10 19:45:24|          2017-08-16 17:14:30|          2017-08-23 00:00:00|\n",
      "+--------------------+--------------------+------------+------------------------+-------------------+----------------------------+-----------------------------+-----------------------------+\n",
      "only showing top 10 rows\n",
      "\n"
     ]
    }
   ],
   "source": [
    "orders_df.show()"
   ]
  },
  {
   "cell_type": "code",
   "execution_count": 20,
   "id": "9a459826-3554-4de3-8949-9b6c4e6fe9a5",
   "metadata": {},
   "outputs": [
    {
     "name": "stdout",
     "output_type": "stream",
     "text": [
      "+------------+-----+\n",
      "|order_status|count|\n",
      "+------------+-----+\n",
      "|   delivered|96478|\n",
      "|     shipped| 1107|\n",
      "|    canceled|  625|\n",
      "| unavailable|  609|\n",
      "|    invoiced|  314|\n",
      "|  processing|  301|\n",
      "|     created|    5|\n",
      "|    approved|    2|\n",
      "+------------+-----+\n",
      "\n"
     ]
    }
   ],
   "source": [
    "# Order - Order status distribution\n",
    "\n",
    "orders_df.groupBy('order_status').count().orderBy('count',ascending=False).show()"
   ]
  },
  {
   "cell_type": "code",
   "execution_count": null,
   "id": "293bbb97-c0df-46e5-bfec-3c259d7e5a58",
   "metadata": {},
   "outputs": [],
   "source": []
  },
  {
   "cell_type": "code",
   "execution_count": null,
   "id": "19b77b3f-a15d-4e31-9858-91586e1347fb",
   "metadata": {},
   "outputs": [],
   "source": []
  },
  {
   "cell_type": "code",
   "execution_count": null,
   "id": "04ccd125-e69a-4d9e-8d8d-73f17d36fbe5",
   "metadata": {},
   "outputs": [],
   "source": []
  },
  {
   "cell_type": "code",
   "execution_count": 21,
   "id": "f66fbbeb-6c77-4066-8187-c8cc09104962",
   "metadata": {},
   "outputs": [
    {
     "name": "stdout",
     "output_type": "stream",
     "text": [
      "+--------------------+------------------+------------+--------------------+-------------+\n",
      "|            order_id|payment_sequential|payment_type|payment_installments|payment_value|\n",
      "+--------------------+------------------+------------+--------------------+-------------+\n",
      "|b81ef226f3fe1789b...|                 1| credit_card|                   8|        99.33|\n",
      "|a9810da82917af2d9...|                 1| credit_card|                   1|        24.39|\n",
      "|25e8ea4e93396b6fa...|                 1| credit_card|                   1|        65.71|\n",
      "|ba78997921bbcdc13...|                 1| credit_card|                   8|       107.78|\n",
      "|42fdf880ba16b47b5...|                 1| credit_card|                   2|       128.45|\n",
      "|298fcdf1f73eb413e...|                 1| credit_card|                   2|        96.12|\n",
      "|771ee386b001f0620...|                 1| credit_card|                   1|        81.16|\n",
      "|3d7239c394a212faa...|                 1| credit_card|                   3|        51.84|\n",
      "|1f78449c87a54faf9...|                 1| credit_card|                   6|       341.09|\n",
      "|0573b5e23cbd79800...|                 1|      boleto|                   1|        51.95|\n",
      "|d88e0d5fa41661ce0...|                 1| credit_card|                   8|       188.73|\n",
      "|2480f727e869fdeb3...|                 1| credit_card|                   1|        141.9|\n",
      "|616105c9352a9668c...|                 1| credit_card|                   1|        75.78|\n",
      "|cf95215a722f3ebf2...|                 1| credit_card|                   5|       102.66|\n",
      "|769214176682788a9...|                 1| credit_card|                   4|       105.28|\n",
      "|12e5cfe0e4716b59a...|                 1| credit_card|                  10|       157.45|\n",
      "|61059985a6fc0ad64...|                 1| credit_card|                   1|       132.04|\n",
      "|79da3f5fe31ad1e45...|                 1| credit_card|                   1|        98.94|\n",
      "|8ac09207f415d55ac...|                 1| credit_card|                   4|       244.15|\n",
      "|b2349a3f20dfbeef6...|                 1| credit_card|                   3|       136.71|\n",
      "+--------------------+------------------+------------+--------------------+-------------+\n",
      "only showing top 20 rows\n",
      "\n"
     ]
    }
   ],
   "source": [
    "# Payments\n",
    "\n",
    "payments_df.show()"
   ]
  },
  {
   "cell_type": "code",
   "execution_count": 22,
   "id": "52be9af9-7a89-486e-9690-a0b4928af06f",
   "metadata": {},
   "outputs": [
    {
     "name": "stdout",
     "output_type": "stream",
     "text": [
      "+------------+-----+\n",
      "|payment_type|count|\n",
      "+------------+-----+\n",
      "| credit_card|76795|\n",
      "|      boleto|19784|\n",
      "|     voucher| 5775|\n",
      "|  debit_card| 1529|\n",
      "| not_defined|    3|\n",
      "+------------+-----+\n",
      "\n"
     ]
    }
   ],
   "source": [
    "payments_df.groupBy('payment_type').count().orderBy('count',ascending=False).show()"
   ]
  },
  {
   "cell_type": "code",
   "execution_count": null,
   "id": "08e44410-75be-42c2-9611-3cd69dd3ffe5",
   "metadata": {},
   "outputs": [],
   "source": []
  },
  {
   "cell_type": "code",
   "execution_count": null,
   "id": "1b40031e-5373-4c11-abc2-41fe8533c408",
   "metadata": {},
   "outputs": [],
   "source": [
    "#Top selling Products"
   ]
  },
  {
   "cell_type": "code",
   "execution_count": 25,
   "id": "221bd86f-4ec0-4239-a122-f4db3c7daccc",
   "metadata": {},
   "outputs": [
    {
     "name": "stdout",
     "output_type": "stream",
     "text": [
      "+--------------------+-------------+--------------------+--------------------+-------------------+------+-------------+\n",
      "|            order_id|order_item_id|          product_id|           seller_id|shipping_limit_date| price|freight_value|\n",
      "+--------------------+-------------+--------------------+--------------------+-------------------+------+-------------+\n",
      "|00010242fe8c5a6d1...|            1|4244733e06e7ecb49...|48436dade18ac8b2b...|2017-09-19 09:45:35|  58.9|        13.29|\n",
      "|00018f77f2f0320c5...|            1|e5f2d52b802189ee6...|dd7ddc04e1b6c2c61...|2017-05-03 11:05:13| 239.9|        19.93|\n",
      "|000229ec398224ef6...|            1|c777355d18b72b67a...|5b51032eddd242adc...|2018-01-18 14:48:30| 199.0|        17.87|\n",
      "|00024acbcdf0a6daa...|            1|7634da152a4610f15...|9d7a1d34a50524090...|2018-08-15 10:10:18| 12.99|        12.79|\n",
      "|00042b26cf59d7ce6...|            1|ac6c3623068f30de0...|df560393f3a51e745...|2017-02-13 13:57:51| 199.9|        18.14|\n",
      "|00048cc3ae777c65d...|            1|ef92defde845ab845...|6426d21aca402a131...|2017-05-23 03:55:27|  21.9|        12.69|\n",
      "|00054e8431b9d7675...|            1|8d4f2bb7e93e6710a...|7040e82f899a04d1b...|2017-12-14 12:10:31|  19.9|        11.85|\n",
      "|000576fe39319847c...|            1|557d850972a7d6f79...|5996cddab893a4652...|2018-07-10 12:30:45| 810.0|        70.75|\n",
      "|0005a1a1728c9d785...|            1|310ae3c140ff94b03...|a416b6a846a117243...|2018-03-26 18:31:29|145.95|        11.65|\n",
      "|0005f50442cb953dc...|            1|4535b0e1091c278df...|ba143b05f0110f0dc...|2018-07-06 14:10:56| 53.99|         11.4|\n",
      "|00061f2a7bc09da83...|            1|d63c1011f49d98b97...|cc419e0650a3c5ba7...|2018-03-29 22:28:09| 59.99|         8.88|\n",
      "|00063b381e2406b52...|            1|f177554ea93259a5b...|8602a61d680a10a82...|2018-07-31 17:30:39|  45.0|        12.98|\n",
      "|0006ec9db01a64e59...|            1|99a4788cb24856965...|4a3ca9315b744ce9f...|2018-07-26 17:24:20|  74.0|        23.32|\n",
      "|0008288aa423d2a3f...|            1|368c6c730842d7801...|1f50f920176fa81da...|2018-02-21 02:55:52|  49.9|        13.37|\n",
      "|0008288aa423d2a3f...|            2|368c6c730842d7801...|1f50f920176fa81da...|2018-02-21 02:55:52|  49.9|        13.37|\n",
      "|0009792311464db53...|            1|8cab8abac59158715...|530ec6109d11eaaf8...|2018-08-17 12:15:10|  99.9|        27.65|\n",
      "|0009c9a17f916a706...|            1|3f27ac8e699df3d30...|fcb5ace8bcc92f757...|2018-05-02 09:31:53| 639.0|        11.34|\n",
      "|000aed2e25dbad2f9...|            1|4fa33915031a8cde0...|fe2032dab1a61af87...|2018-05-16 20:57:03| 144.0|         8.77|\n",
      "|000c3e6612759851c...|            1|b50c950aba0dcead2...|218d46b86c1881d02...|2017-08-21 03:33:13|  99.0|        13.71|\n",
      "|000e562887b1f2006...|            1|5ed9eaf534f6936b5...|8cbac7e12637ed9cf...|2018-02-28 12:08:37|  25.0|        16.11|\n",
      "+--------------------+-------------+--------------------+--------------------+-------------------+------+-------------+\n",
      "only showing top 20 rows\n",
      "\n"
     ]
    }
   ],
   "source": [
    "order_item_df.show()"
   ]
  },
  {
   "cell_type": "code",
   "execution_count": 27,
   "id": "6c3b3e22-8446-415b-ac7b-fcb92ed892de",
   "metadata": {},
   "outputs": [
    {
     "name": "stderr",
     "output_type": "stream",
     "text": [
      "[Stage 57:=============================>                            (1 + 1) / 2]\r"
     ]
    },
    {
     "name": "stdout",
     "output_type": "stream",
     "text": [
      "+--------------------+------------------+\n",
      "|          product_id|       total_sales|\n",
      "+--------------------+------------------+\n",
      "|bb50f2e236e5eea01...|           63885.0|\n",
      "|6cdd53843498f9289...| 54730.20000000005|\n",
      "|d6160fb7873f18409...|48899.340000000004|\n",
      "|d1c427060a0f73f6b...| 47214.51000000006|\n",
      "|99a4788cb24856965...|43025.560000000085|\n",
      "|3dd2a17168ec895c7...| 41082.60000000005|\n",
      "|25c38557cf793876c...| 38907.32000000001|\n",
      "|5f504b3a1c75b73d6...|37733.899999999994|\n",
      "|53b36df67ebb7c415...| 37683.42000000001|\n",
      "|aca2eb7d00ea1a7b8...| 37608.90000000007|\n",
      "|e0d64dcfaa3b6db5c...|          31786.82|\n",
      "|d285360f29ac7fd97...|31623.809999999983|\n",
      "|7a10781637204d8d1...|           30467.5|\n",
      "|f1c7f353075ce59d8...|          29997.36|\n",
      "|f819f0c84a64f02d3...|29024.479999999996|\n",
      "|588531f8ec37e7d5f...|28291.989999999998|\n",
      "|422879e10f4668299...|26577.219999999972|\n",
      "|16c4e87b98a9370a9...|           25034.0|\n",
      "|5a848e4ab52fd5445...|24229.029999999962|\n",
      "|a62e25e09e05e6faf...|           24051.0|\n",
      "+--------------------+------------------+\n",
      "only showing top 20 rows\n",
      "\n"
     ]
    },
    {
     "name": "stderr",
     "output_type": "stream",
     "text": [
      "                                                                                \r"
     ]
    }
   ],
   "source": [
    "from pyspark.sql.functions import sum\n",
    "\n",
    "top_products  = order_item_df.groupBy('product_id').agg(sum('price').alias('total_sales'))\n",
    "top_products.orderBy('total_sales',ascending=False).show(20)"
   ]
  },
  {
   "cell_type": "code",
   "execution_count": null,
   "id": "846a399e-672c-4942-9649-598e1c11ba73",
   "metadata": {},
   "outputs": [],
   "source": []
  },
  {
   "cell_type": "code",
   "execution_count": 30,
   "id": "4e4e1eb2-43cb-4186-9c4c-b68129bdfbf6",
   "metadata": {},
   "outputs": [],
   "source": [
    "# Average Delivery Time Analysis \n",
    "\n",
    "delivery_df = orders_df.select('order_id','order_purchase_timestamp','order_delivered_customer_date')"
   ]
  },
  {
   "cell_type": "code",
   "execution_count": 31,
   "id": "b468a2a1-6048-4c24-bd9b-e94457abe3b9",
   "metadata": {},
   "outputs": [
    {
     "name": "stdout",
     "output_type": "stream",
     "text": [
      "+--------------------+------------------------+-----------------------------+\n",
      "|            order_id|order_purchase_timestamp|order_delivered_customer_date|\n",
      "+--------------------+------------------------+-----------------------------+\n",
      "|e481f51cbdc54678b...|     2017-10-02 10:56:33|          2017-10-10 21:25:13|\n",
      "|53cdb2fc8bc7dce0b...|     2018-07-24 20:41:37|          2018-08-07 15:27:45|\n",
      "|47770eb9100c2d0c4...|     2018-08-08 08:38:49|          2018-08-17 18:06:29|\n",
      "|949d5b44dbf5de918...|     2017-11-18 19:28:06|          2017-12-02 00:28:42|\n",
      "|ad21c59c0840e6cb8...|     2018-02-13 21:18:39|          2018-02-16 18:17:02|\n",
      "|a4591c265e18cb1dc...|     2017-07-09 21:57:05|          2017-07-26 10:57:55|\n",
      "|136cce7faa42fdb2c...|     2017-04-11 12:22:08|                         null|\n",
      "|6514b8ad8028c9f2c...|     2017-05-16 13:10:30|          2017-05-26 12:55:51|\n",
      "|76c6e866289321a7c...|     2017-01-23 18:29:09|          2017-02-02 14:08:10|\n",
      "|e69bfb5eb88e0ed6a...|     2017-07-29 11:55:02|          2017-08-16 17:14:30|\n",
      "|e6ce16cb79ec1d90b...|     2017-05-16 19:41:10|          2017-05-29 11:18:31|\n",
      "|34513ce0c4fab462a...|     2017-07-13 19:58:11|          2017-07-19 14:04:48|\n",
      "|82566a660a982b15f...|     2018-06-07 10:06:19|          2018-06-19 12:05:52|\n",
      "|5ff96c15d0b717ac6...|     2018-07-25 17:44:10|          2018-07-30 15:52:25|\n",
      "|432aaf21d85167c2c...|     2018-03-01 14:14:28|          2018-03-12 23:36:26|\n",
      "|dcb36b511fcac050b...|     2018-06-07 19:03:12|          2018-06-21 15:34:32|\n",
      "|403b97836b0c04a62...|     2018-01-02 19:00:43|          2018-01-20 01:38:59|\n",
      "|116f0b09343b49556...|     2017-12-26 23:41:31|          2018-01-08 22:36:36|\n",
      "|85ce859fd6dc634de...|     2017-11-21 00:03:41|          2017-11-27 18:28:00|\n",
      "|83018ec114eee8641...|     2017-10-26 15:54:26|          2017-11-08 22:22:00|\n",
      "+--------------------+------------------------+-----------------------------+\n",
      "only showing top 20 rows\n",
      "\n"
     ]
    }
   ],
   "source": [
    "delivery_df.show()"
   ]
  },
  {
   "cell_type": "code",
   "execution_count": 37,
   "id": "786bba39-5f5c-45f7-b9cf-23cc51a45cad",
   "metadata": {},
   "outputs": [
    {
     "name": "stdout",
     "output_type": "stream",
     "text": [
      "+--------------------+------------------------+-----------------------------+-------------+\n",
      "|            order_id|order_purchase_timestamp|order_delivered_customer_date|delivery_time|\n",
      "+--------------------+------------------------+-----------------------------+-------------+\n",
      "|e481f51cbdc54678b...|     2017-10-02 10:56:33|          2017-10-10 21:25:13|            8|\n",
      "|53cdb2fc8bc7dce0b...|     2018-07-24 20:41:37|          2018-08-07 15:27:45|           14|\n",
      "|47770eb9100c2d0c4...|     2018-08-08 08:38:49|          2018-08-17 18:06:29|            9|\n",
      "|949d5b44dbf5de918...|     2017-11-18 19:28:06|          2017-12-02 00:28:42|           14|\n",
      "|ad21c59c0840e6cb8...|     2018-02-13 21:18:39|          2018-02-16 18:17:02|            3|\n",
      "|a4591c265e18cb1dc...|     2017-07-09 21:57:05|          2017-07-26 10:57:55|           17|\n",
      "|136cce7faa42fdb2c...|     2017-04-11 12:22:08|                         null|         null|\n",
      "|6514b8ad8028c9f2c...|     2017-05-16 13:10:30|          2017-05-26 12:55:51|           10|\n",
      "|76c6e866289321a7c...|     2017-01-23 18:29:09|          2017-02-02 14:08:10|           10|\n",
      "|e69bfb5eb88e0ed6a...|     2017-07-29 11:55:02|          2017-08-16 17:14:30|           18|\n",
      "|e6ce16cb79ec1d90b...|     2017-05-16 19:41:10|          2017-05-29 11:18:31|           13|\n",
      "|34513ce0c4fab462a...|     2017-07-13 19:58:11|          2017-07-19 14:04:48|            6|\n",
      "|82566a660a982b15f...|     2018-06-07 10:06:19|          2018-06-19 12:05:52|           12|\n",
      "|5ff96c15d0b717ac6...|     2018-07-25 17:44:10|          2018-07-30 15:52:25|            5|\n",
      "|432aaf21d85167c2c...|     2018-03-01 14:14:28|          2018-03-12 23:36:26|           11|\n",
      "|dcb36b511fcac050b...|     2018-06-07 19:03:12|          2018-06-21 15:34:32|           14|\n",
      "|403b97836b0c04a62...|     2018-01-02 19:00:43|          2018-01-20 01:38:59|           18|\n",
      "|116f0b09343b49556...|     2017-12-26 23:41:31|          2018-01-08 22:36:36|           13|\n",
      "|85ce859fd6dc634de...|     2017-11-21 00:03:41|          2017-11-27 18:28:00|            6|\n",
      "|83018ec114eee8641...|     2017-10-26 15:54:26|          2017-11-08 22:22:00|           13|\n",
      "+--------------------+------------------------+-----------------------------+-------------+\n",
      "only showing top 20 rows\n",
      "\n"
     ]
    }
   ],
   "source": [
    "from pyspark.sql.functions import datediff,to_date\n",
    "\n",
    "delivery_detail_df = delivery_df.withColumn('delivery_time',datediff(col('order_delivered_customer_date'),col('order_purchase_timestamp')))\n",
    "                                    \n",
    "    \n",
    "delivery_detail_df.show()"
   ]
  },
  {
   "cell_type": "code",
   "execution_count": 38,
   "id": "c33a2001-9e8e-4cfb-a7a3-07344e30d331",
   "metadata": {},
   "outputs": [
    {
     "name": "stdout",
     "output_type": "stream",
     "text": [
      "+--------------------+------------------------+-----------------------------+-------------+\n",
      "|            order_id|order_purchase_timestamp|order_delivered_customer_date|delivery_time|\n",
      "+--------------------+------------------------+-----------------------------+-------------+\n",
      "|ca07593549f1816d2...|     2017-02-21 23:31:27|          2017-09-19 14:36:39|          210|\n",
      "|1b3190b2dfa9d789e...|     2018-02-23 14:57:35|          2018-09-19 23:24:07|          208|\n",
      "|440d0d17af552815d...|     2017-03-07 23:59:51|          2017-09-19 15:12:50|          196|\n",
      "|285ab9426d6982034...|     2017-03-08 22:47:40|          2017-09-19 14:00:04|          195|\n",
      "|2fb597c2f772eca01...|     2017-03-08 18:09:02|          2017-09-19 14:33:17|          195|\n",
      "|0f4519c5f1c541dde...|     2017-03-09 13:26:57|          2017-09-19 14:38:21|          194|\n",
      "|47b40429ed8cce3ae...|     2018-01-03 09:44:01|          2018-07-13 20:51:31|          191|\n",
      "|2fe324febf907e3ea...|     2017-03-13 20:17:10|          2017-09-19 17:00:07|          190|\n",
      "|c27815f7e3dd0b926...|     2017-03-15 23:23:17|          2017-09-19 17:14:25|          188|\n",
      "|2d7561026d542c8db...|     2017-03-15 11:24:27|          2017-09-19 14:38:18|          188|\n",
      "|437222e3fd1b07396...|     2017-03-16 11:36:00|          2017-09-19 16:28:58|          187|\n",
      "|dfe5f68118c257614...|     2017-03-17 12:32:22|          2017-09-19 18:13:19|          186|\n",
      "|6e82dcfb5eada6283...|     2017-05-17 19:09:02|          2017-11-16 10:56:45|          183|\n",
      "|2ba1366baecad3c35...|     2017-02-28 14:56:37|          2017-08-28 16:23:46|          181|\n",
      "|d24e8541128cea179...|     2017-06-12 13:14:11|          2017-12-04 18:36:29|          175|\n",
      "|3566eabb132f8d647...|     2017-03-29 13:57:55|          2017-09-19 15:07:09|          174|\n",
      "|ed8e9faf1b75f43ee...|     2017-11-29 15:10:14|          2018-05-21 18:22:18|          173|\n",
      "|2fa29503f2ebd9f53...|     2017-03-31 15:03:51|          2017-09-19 18:24:46|          172|\n",
      "|df6d8b7768a047c29...|     2017-04-04 10:46:22|          2017-09-19 15:08:19|          168|\n",
      "|525e11b26fdb7f414...|     2017-04-04 16:19:10|          2017-09-19 14:58:10|          168|\n",
      "+--------------------+------------------------+-----------------------------+-------------+\n",
      "only showing top 20 rows\n",
      "\n"
     ]
    }
   ],
   "source": [
    "delivery_detail_df.orderBy('delivery_time',ascending=False).show()"
   ]
  },
  {
   "cell_type": "code",
   "execution_count": null,
   "id": "e78444bb-3cca-479c-81a3-af58e5a7d276",
   "metadata": {},
   "outputs": [],
   "source": [
    "delivery_detail_df"
   ]
  }
 ],
 "metadata": {
  "kernelspec": {
   "display_name": "PySpark",
   "language": "python",
   "name": "pyspark"
  },
  "language_info": {
   "codemirror_mode": {
    "name": "ipython",
    "version": 3
   },
   "file_extension": ".py",
   "mimetype": "text/x-python",
   "name": "python",
   "nbconvert_exporter": "python",
   "pygments_lexer": "ipython3",
   "version": "3.10.8"
  }
 },
 "nbformat": 4,
 "nbformat_minor": 5
}
