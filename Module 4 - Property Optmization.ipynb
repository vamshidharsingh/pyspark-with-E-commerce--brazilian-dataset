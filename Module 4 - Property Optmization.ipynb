{
 "cells": [
  {
   "cell_type": "code",
   "execution_count": 1,
   "id": "c7ec9c0c-87c7-44d8-aa25-acf90b7f62ca",
   "metadata": {},
   "outputs": [],
   "source": [
    "from pyspark.sql import SparkSession"
   ]
  },
  {
   "cell_type": "code",
   "execution_count": 8,
   "id": "229bd258-2f30-466b-b86f-2267f9b22b13",
   "metadata": {},
   "outputs": [
    {
     "name": "stderr",
     "output_type": "stream",
     "text": [
      "25/02/28 14:37:43 WARN SparkSession: Using an existing Spark session; only runtime SQL configurations will take effect.\n"
     ]
    }
   ],
   "source": [
    "spark = SparkSession.builder \\\n",
    ".appName('Olist Ecommerce Performance Optmization') \\\n",
    ".config('spark.executor.memory','6g') \\\n",
    ".config('spark.executor.cores','4') \\\n",
    ".config('spark.executor.instances','2') \\\n",
    ".config('spark.driver.memory','4g') \\\n",
    ".config('spark.driver.maxResultSize','2g') \\\n",
    ".config('spark.sql.shuffle.partitions','64') \\\n",
    ".config('spark.default.parallelism','64') \\\n",
    ".config('spark.sql.adaptive.enabled','true') \\\n",
    ".config('spark.sql.adaptive.coalescePartition.enabled','true') \\\n",
    ".config('spark.sql.autoBroadcastJoinThreshold',20*1024*1024) \\\n",
    ".config('spark.sql.files.maxPartitionBytes','64MB') \\\n",
    ".config('spark.sql.files.openCostInBytes','2MB') \\\n",
    ".config('spark.memory.fraction',0.8) \\\n",
    ".config('spark.memory.storageFraction',0.2) \\\n",
    ".getOrCreate()"
   ]
  },
  {
   "cell_type": "code",
   "execution_count": null,
   "id": "547da9e3-97ae-41da-8ab6-6b20e8bf06f6",
   "metadata": {},
   "outputs": [],
   "source": []
  },
  {
   "cell_type": "code",
   "execution_count": 9,
   "id": "d2fa24ab-9ca7-4a83-9ec6-22fedebb6032",
   "metadata": {},
   "outputs": [],
   "source": [
    "hdfs_path = '/olist/'"
   ]
  },
  {
   "cell_type": "code",
   "execution_count": 10,
   "id": "6a21ea6e-4746-4276-98a8-ea5bdb2d6431",
   "metadata": {},
   "outputs": [
    {
     "name": "stderr",
     "output_type": "stream",
     "text": [
      "                                                                                \r"
     ]
    }
   ],
   "source": [
    "customers_df = spark.read.csv(hdfs_path + 'olist_customers_dataset.csv',header=True,inferSchema=True)\n",
    "orders_df = spark.read.csv(hdfs_path + 'olist_orders_dataset.csv',header=True,inferSchema=True)\n",
    "order_item_df = spark.read.csv(hdfs_path + 'olist_order_items_dataset.csv',header=True,inferSchema=True)\n",
    "payments_df = spark.read.csv(hdfs_path + 'olist_order_payments_dataset.csv',header=True,inferSchema=True)\n",
    "reviews_df = spark.read.csv(hdfs_path + 'olist_order_reviews_dataset.csv',header=True,inferSchema=True)\n",
    "products_df = spark.read.csv(hdfs_path + 'olist_products_dataset.csv',header=True,inferSchema=True)\n",
    "sellers_df = spark.read.csv(hdfs_path + 'olist_sellers_dataset.csv',header=True,inferSchema=True)\n",
    "geolocation_df = spark.read.csv(hdfs_path + 'olist_geolocation_dataset.csv',header=True,inferSchema=True)\n",
    "category_translation_df = spark.read.csv(hdfs_path + 'product_category_name_translation.csv',header=True,inferSchema=True)"
   ]
  },
  {
   "cell_type": "code",
   "execution_count": 11,
   "id": "909dc83a-afdf-4542-aed1-3c92b643e1f0",
   "metadata": {},
   "outputs": [],
   "source": [
    "full_orders_df = spark.read.parquet('/olist/processed/')"
   ]
  },
  {
   "cell_type": "code",
   "execution_count": 12,
   "id": "239457d3-dfda-4159-a578-db464fb1c68c",
   "metadata": {},
   "outputs": [
    {
     "name": "stdout",
     "output_type": "stream",
     "text": [
      "root\n",
      " |-- customer_id: string (nullable = true)\n",
      " |-- order_id: string (nullable = true)\n",
      " |-- seller_id: string (nullable = true)\n",
      " |-- product_id: string (nullable = true)\n",
      " |-- order_status: string (nullable = true)\n",
      " |-- order_purchase_timestamp: timestamp (nullable = true)\n",
      " |-- order_approved_at: timestamp (nullable = true)\n",
      " |-- order_delivered_carrier_date: timestamp (nullable = true)\n",
      " |-- order_delivered_customer_date: timestamp (nullable = true)\n",
      " |-- order_estimated_delivery_date: timestamp (nullable = true)\n",
      " |-- order_item_id: integer (nullable = true)\n",
      " |-- shipping_limit_date: timestamp (nullable = true)\n",
      " |-- price: double (nullable = true)\n",
      " |-- freight_value: double (nullable = true)\n",
      " |-- product_category_name: string (nullable = true)\n",
      " |-- product_name_lenght: integer (nullable = true)\n",
      " |-- product_description_lenght: integer (nullable = true)\n",
      " |-- product_photos_qty: integer (nullable = true)\n",
      " |-- product_weight_g: integer (nullable = true)\n",
      " |-- product_length_cm: integer (nullable = true)\n",
      " |-- product_height_cm: integer (nullable = true)\n",
      " |-- product_width_cm: integer (nullable = true)\n",
      " |-- seller_zip_code_prefix: integer (nullable = true)\n",
      " |-- seller_city: string (nullable = true)\n",
      " |-- seller_state: string (nullable = true)\n",
      " |-- customer_unique_id: string (nullable = true)\n",
      " |-- customer_zip_code_prefix: integer (nullable = true)\n",
      " |-- customer_city: string (nullable = true)\n",
      " |-- customer_state: string (nullable = true)\n",
      " |-- geolocation_zip_code_prefix: integer (nullable = true)\n",
      " |-- geolocation_lat: double (nullable = true)\n",
      " |-- geolocation_lng: double (nullable = true)\n",
      " |-- geolocation_city: string (nullable = true)\n",
      " |-- geolocation_state: string (nullable = true)\n",
      " |-- review_id: string (nullable = true)\n",
      " |-- review_score: string (nullable = true)\n",
      " |-- review_comment_title: string (nullable = true)\n",
      " |-- review_comment_message: string (nullable = true)\n",
      " |-- review_creation_date: string (nullable = true)\n",
      " |-- review_answer_timestamp: string (nullable = true)\n",
      " |-- payment_sequential: integer (nullable = true)\n",
      " |-- payment_type: string (nullable = true)\n",
      " |-- payment_installments: integer (nullable = true)\n",
      " |-- payment_value: double (nullable = true)\n",
      " |-- is_delivered: integer (nullable = true)\n",
      " |-- is_canceled: integer (nullable = true)\n",
      " |-- order_revenue: double (nullable = true)\n",
      " |-- customer_segment: string (nullable = true)\n",
      " |-- hour_of_day: integer (nullable = true)\n",
      " |-- order_day_type: string (nullable = true)\n",
      "\n"
     ]
    }
   ],
   "source": [
    "full_orders_df.printSchema()"
   ]
  },
  {
   "cell_type": "markdown",
   "id": "56721988-0344-4558-92db-ed178d627530",
   "metadata": {},
   "source": [
    "# Optimized Join Stragies"
   ]
  },
  {
   "cell_type": "code",
   "execution_count": null,
   "id": "f6a715a6-61b0-4155-b2d4-e4bf0edcec8d",
   "metadata": {},
   "outputs": [],
   "source": [
    "# Broadcast\n",
    "\n",
    "customers_broadcast_df = broadcast(customers_df)\n",
    "optimized_broadcast_join = full_orders_df.join(customers_brodcast_df,'customer_id')\n"
   ]
  },
  {
   "cell_type": "code",
   "execution_count": null,
   "id": "2695c5ee-b992-4068-a780-5a93a3b8e254",
   "metadata": {},
   "outputs": [],
   "source": [
    "# Sort and Merge join\n",
    "\n",
    "sorted_customers_df = customers_df.sortWithinPartitions('customer_id')\n",
    "sorted_orders_df = full_orders_df.sortWithinPartitions('customer_id')\n",
    "\n",
    "\n",
    "optimized_merge_full_orders_df = sorted_orders_df.join(sorted_customers_df,'customer_id')"
   ]
  },
  {
   "cell_type": "code",
   "execution_count": null,
   "id": "ea287c74-f481-4191-beca-9dacbf6cf651",
   "metadata": {},
   "outputs": [],
   "source": []
  },
  {
   "cell_type": "code",
   "execution_count": 13,
   "id": "3a057523-961f-4f59-ab25-e9909ed00a19",
   "metadata": {},
   "outputs": [],
   "source": [
    "# Bucket join \n",
    "\n",
    "\n",
    "\n",
    "bucketed_customers_df = customers_df.repartition(10,'customer_id')\n",
    "bucketed_orders_df = full_orders_df.repartition(10,'customer_id')\n",
    "\n",
    "bucket_join_df = bucketed_orders_df.join(bucketed_customers_df,'customer_id')"
   ]
  },
  {
   "cell_type": "code",
   "execution_count": null,
   "id": "4c104e73-6190-445a-a5e4-e107695618a9",
   "metadata": {},
   "outputs": [],
   "source": []
  },
  {
   "cell_type": "code",
   "execution_count": 16,
   "id": "1318c654-829a-4511-9e84-4f1e9eca7940",
   "metadata": {},
   "outputs": [
    {
     "name": "stderr",
     "output_type": "stream",
     "text": [
      "25/02/28 15:05:56 WARN HintErrorLogger: Unrecognized hint: skew(customer_id)\n"
     ]
    }
   ],
   "source": [
    "# Skew Join handling\n",
    "\n",
    "skew_handled_join = full_orders_df.join(customers_df,'customer_id')"
   ]
  },
  {
   "cell_type": "code",
   "execution_count": null,
   "id": "d7e531de-7728-436e-9e6c-2671a59c5904",
   "metadata": {},
   "outputs": [],
   "source": []
  },
  {
   "cell_type": "code",
   "execution_count": null,
   "id": "55a7f766-0e2d-44b0-83bb-0404641000e0",
   "metadata": {},
   "outputs": [],
   "source": []
  },
  {
   "cell_type": "code",
   "execution_count": null,
   "id": "c75118e1-aee0-454f-ba9f-b5774c9bbcf3",
   "metadata": {},
   "outputs": [],
   "source": [
    "# Caching - "
   ]
  }
 ],
 "metadata": {
  "kernelspec": {
   "display_name": "PySpark",
   "language": "python",
   "name": "pyspark"
  },
  "language_info": {
   "codemirror_mode": {
    "name": "ipython",
    "version": 3
   },
   "file_extension": ".py",
   "mimetype": "text/x-python",
   "name": "python",
   "nbconvert_exporter": "python",
   "pygments_lexer": "ipython3",
   "version": "3.10.8"
  }
 },
 "nbformat": 4,
 "nbformat_minor": 5
}
